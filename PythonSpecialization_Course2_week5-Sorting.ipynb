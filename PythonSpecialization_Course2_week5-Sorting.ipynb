{
 "cells": [
  {
   "cell_type": "markdown",
   "metadata": {},
   "source": [
    "#### Course 2\n",
    "##### Week 5 - Sort"
   ]
  },
  {
   "cell_type": "markdown",
   "metadata": {},
   "source": [
    "There are few ways to sort something. \n",
    "The sort method **.sort()** and the sorted function **sort(<parameter>)** does.\n",
    "<br><br> The method does not return values, which is different from the function.\n",
    "<br> Additionally, when we use the sorted function in a list, it does not alter the original list. Instead, it produces another list with the same objects in diff order.\n",
    "<br><br>See the sort method:"
   ]
  },
  {
   "cell_type": "code",
   "execution_count": null,
   "metadata": {},
   "outputs": [
    {
     "name": "stdout",
     "output_type": "stream",
     "text": [
      "[-4, 1, 2, 3, 7]\n",
      "['Anana', 'Apple', 'Blueberry', 'Tomato']\n"
     ]
    }
   ],
   "source": [
    "l1 = [1, 7, -4, 2, 3]\n",
    "l2 = [\"Apple\", \"Tomato\", \"Anana\", \"Blueberry\"]\n",
    "\n",
    "\n",
    "l1.sort()\n",
    "print(l1)\n",
    "\n",
    "l2.sort()\n",
    "print(l2)"
   ]
  },
  {
   "cell_type": "markdown",
   "metadata": {},
   "source": []
  },
  {
   "cell_type": "markdown",
   "metadata": {},
   "source": [
    "And how the sorted function works:"
   ]
  },
  {
   "cell_type": "code",
   "execution_count": null,
   "metadata": {},
   "outputs": [
    {
     "name": "stdout",
     "output_type": "stream",
     "text": [
      "This is the sorted version:  ['Anana', 'Apple', 'Blueberry', 'Tomato']\n",
      "... that does not alter the original list:  ['Apple', 'Tomato', 'Anana', 'Blueberry']\n"
     ]
    }
   ],
   "source": [
    "l2 = [\"Apple\", \"Tomato\", \"Anana\", \"Blueberry\"]\n",
    "\n",
    "print(\"This is the sorted version: \", sorted(l2))\n",
    "print(\"... that does not alter the original list: \", l2)"
   ]
  },
  {
   "cell_type": "markdown",
   "metadata": {},
   "source": [
    "Another important point is sorted function can be used with immutable things like strings because it will treat the string as a list of characters. However, invoking sort method it won't work in this case exactly because strings are immutable. \n",
    "<br>Look:"
   ]
  },
  {
   "cell_type": "code",
   "execution_count": 9,
   "metadata": {},
   "outputs": [
    {
     "name": "stdout",
     "output_type": "stream",
     "text": [
      "['A', 'e', 'l', 'p', 'p']\n"
     ]
    },
    {
     "ename": "AttributeError",
     "evalue": "'str' object has no attribute 'sort'",
     "output_type": "error",
     "traceback": [
      "\u001b[0;31m---------------------------------------------------------------------------\u001b[0m",
      "\u001b[0;31mAttributeError\u001b[0m                            Traceback (most recent call last)",
      "Cell \u001b[0;32mIn[9], line 4\u001b[0m\n\u001b[1;32m      1\u001b[0m string \u001b[38;5;241m=\u001b[39m \u001b[38;5;124m\"\u001b[39m\u001b[38;5;124mApple\u001b[39m\u001b[38;5;124m\"\u001b[39m\n\u001b[1;32m      3\u001b[0m \u001b[38;5;28mprint\u001b[39m(\u001b[38;5;28msorted\u001b[39m(\u001b[38;5;124m\"\u001b[39m\u001b[38;5;124mApple\u001b[39m\u001b[38;5;124m\"\u001b[39m))\n\u001b[0;32m----> 4\u001b[0m \u001b[38;5;28mprint\u001b[39m(\u001b[43mstring\u001b[49m\u001b[38;5;241;43m.\u001b[39;49m\u001b[43msort\u001b[49m())\n",
      "\u001b[0;31mAttributeError\u001b[0m: 'str' object has no attribute 'sort'"
     ]
    }
   ],
   "source": [
    "string = \"Apple\"\n",
    "\n",
    "print(sorted(\"Apple\"))\n",
    "print(string.sort())"
   ]
  },
  {
   "cell_type": "markdown",
   "metadata": {},
   "source": [
    "It is also possible to sort in reverse order:"
   ]
  },
  {
   "cell_type": "code",
   "execution_count": 10,
   "metadata": {},
   "outputs": [
    {
     "name": "stdout",
     "output_type": "stream",
     "text": [
      "['Tomato', 'Blueberry', 'Apple', 'Anana']\n"
     ]
    }
   ],
   "source": [
    "l2 = [\"Apple\", \"Tomato\", \"Anana\", \"Blueberry\"]\n",
    "\n",
    "print(sorted(l2, reverse=True))"
   ]
  },
  {
   "cell_type": "markdown",
   "metadata": {},
   "source": [
    "Functions can be used as optional key parameters in the sorted function. For example:"
   ]
  },
  {
   "cell_type": "code",
   "execution_count": null,
   "metadata": {},
   "outputs": [
    {
     "name": "stdout",
     "output_type": "stream",
     "text": [
      "We are checking if the function works. Absolute of -119 is:  119 \n",
      "\n",
      "And for the function 'absolute' is:\n",
      "1\n",
      "5\n",
      "4\n",
      "0\n",
      "7\n",
      "2\n",
      "\n",
      "\n",
      "See how absolute is used as key parameter\n",
      "This is the original:  [1, -5, 4, 0, 7, 2]\n",
      "And this is the new one:  [0, 1, 2, 4, -5, 7]\n"
     ]
    }
   ],
   "source": [
    "l1 = [1, -5, 4, 0, 7, 2]\n",
    "\n",
    "def absolute(x):\n",
    "    if x >= 0:\n",
    "        return x\n",
    "    else: \n",
    "        return -x\n",
    "\n",
    "print(\"We are checking if the function works. Absolute of -119 is: \",absolute(-119), \"\\n\")\n",
    "\n",
    "print(\"And for the function 'absolute' is:\")\n",
    "for y in l1:\n",
    "    print(absolute(y))\n",
    "\n",
    "print(\"\\n\")\n",
    "print(\"See how absolute is used as key parameter\")\n",
    "\n",
    "l2 = sorted(l1, key = absolute)\n",
    "print(\"This is the original: \", l1)\n",
    "print(\"And this is the new one: \", l2)"
   ]
  },
  {
   "cell_type": "markdown",
   "metadata": {},
   "source": [
    "The function that is the key parameter is used before the function \"sorted\". The key parameter must receive one argument as input."
   ]
  },
  {
   "cell_type": "markdown",
   "metadata": {},
   "source": [
    "Exercise 1: You will be sorting the following list by each element’s second letter, a to z. Create a function to use when sorting, called second_let. It will take a string as input and return the second letter of that string. Then sort the list, create a variable called sorted_by_second_let and assign the sorted list to it. Do not use lambda."
   ]
  },
  {
   "cell_type": "code",
   "execution_count": null,
   "metadata": {},
   "outputs": [
    {
     "data": {
      "text/plain": [
       "'o'"
      ]
     },
     "execution_count": 27,
     "metadata": {},
     "output_type": "execute_result"
    }
   ],
   "source": [
    "ex_lst = ['hi', 'how are you', 'bye', 'apple', 'zebra', 'dance']\n",
    "\n",
    "def second_let(x):\n",
    "    return x[1]\n",
    "\n",
    "sorted_by_second_let = sorted(ex_lst, key = second_let)"
   ]
  },
  {
   "cell_type": "markdown",
   "metadata": {},
   "source": [
    "Exercise 2: Below, we have provided a list of strings called nums. Write a function called last_char that takes a string as input, and returns only its last character. Use this function to sort the list nums by the last digit of each number, from highest to lowest, and save this as a new list called nums_sorted."
   ]
  },
  {
   "cell_type": "code",
   "execution_count": 31,
   "metadata": {},
   "outputs": [
    {
     "name": "stdout",
     "output_type": "stream",
     "text": [
      "['19', '14378', '8907', '16', '1005', '44', '33', '32', '871', '1450']\n"
     ]
    }
   ],
   "source": [
    "nums = ['1450', '33', '871', '19', '14378', '32', '1005', '44', '8907', '16']\n",
    "\n",
    "def last_char(x):\n",
    "    return x[-1]\n",
    "\n",
    "nums_sorted = sorted(nums, key = last_char, reverse = True)\n",
    "print(nums_sorted)"
   ]
  },
  {
   "cell_type": "markdown",
   "metadata": {},
   "source": [
    "Exercise 3: Once again, sort the list nums based on the last digit of each number from highest to lowest. However, now you should do so by writing a lambda function. Save the new list as nums_sorted_lambda."
   ]
  },
  {
   "cell_type": "code",
   "execution_count": 30,
   "metadata": {},
   "outputs": [
    {
     "name": "stdout",
     "output_type": "stream",
     "text": [
      "['19', '14378', '8907', '16', '1005', '44', '33', '32', '871', '1450']\n"
     ]
    }
   ],
   "source": [
    "nums = ['1450', '33', '871', '19', '14378', '32', '1005', '44', '8907', '16']\n",
    "\n",
    "nums_sorted_lambda = sorted(nums, key = lambda x: x[-1], reverse = True)\n",
    "\n",
    "print(nums_sorted_lambda)"
   ]
  }
 ],
 "metadata": {
  "kernelspec": {
   "display_name": "Python 3",
   "language": "python",
   "name": "python3"
  },
  "language_info": {
   "codemirror_mode": {
    "name": "ipython",
    "version": 3
   },
   "file_extension": ".py",
   "mimetype": "text/x-python",
   "name": "python",
   "nbconvert_exporter": "python",
   "pygments_lexer": "ipython3",
   "version": "3.11.5"
  }
 },
 "nbformat": 4,
 "nbformat_minor": 2
}
