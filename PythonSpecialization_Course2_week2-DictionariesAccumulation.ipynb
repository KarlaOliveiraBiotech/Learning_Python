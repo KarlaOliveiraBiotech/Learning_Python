{
 "cells": [
  {
   "cell_type": "markdown",
   "metadata": {},
   "source": [
    "#### Course 2\n",
    "##### Week 2 - Dictionary Accumulation"
   ]
  },
  {
   "cell_type": "markdown",
   "metadata": {},
   "source": [
    "To make easy to do accumulation in dictionary, instead of initializing a variable for each character I want to count, I can: "
   ]
  },
  {
   "cell_type": "code",
   "execution_count": null,
   "metadata": {},
   "outputs": [],
   "source": [
    "f = open('fileName.txt', 'r')\n",
    "txt = f.read()  # Txt is now a long string containing all characters\n",
    "\n",
    "dic = {} # Initializes an empty dictionary\n",
    "\n",
    "for char in txt:\n",
    "    if char not in txt: # We haven't seen this character before, so, we must initialize it.\n",
    "        dic[char] = 0 \n",
    "\n",
    "    dic[char] = dic[char] + 1   # Whether we seen it before: accumulates it\n",
    "\n",
    "\n",
    "f.close()"
   ]
  },
  {
   "cell_type": "code",
   "execution_count": 10,
   "metadata": {},
   "outputs": [
    {
     "name": "stdout",
     "output_type": "stream",
     "text": [
      "{'M': 1, 'I': 2, 'C': 1, 'H': 1, 'G': 1, 'A': 1, 'N': 1}\n"
     ]
    }
   ],
   "source": [
    "txt = \"MICHIGAN\"\n",
    "\n",
    "dic = {} # Initializes an empty dictionary\n",
    "\n",
    "for char in txt:\n",
    "    if char not in dic: # We haven't seen this character before, so, we must initialize it.\n",
    "        dic[char] = 0 \n",
    "\n",
    "    dic[char] = dic[char] + 1   # Whether we seen it before: accumulates it\n",
    "\n",
    "print(dic)\n"
   ]
  },
  {
   "cell_type": "markdown",
   "metadata": {},
   "source": [
    "Once I want to perform anything with the values of the keys, I can do a max value accumulation after the dictionary accumulation. "
   ]
  },
  {
   "cell_type": "markdown",
   "metadata": {},
   "source": [
    "\"You can look up the value associated with a key, but not the key associated with a value. The trick is to have the accumulator keep track of the best key so far instead of the best value so far.\" It's called \"accumulating the best key\" and it's performed like:"
   ]
  },
  {
   "cell_type": "code",
   "execution_count": 1,
   "metadata": {},
   "outputs": [
    {
     "name": "stdout",
     "output_type": "stream",
     "text": [
      "key e has the highest value, 312\n"
     ]
    }
   ],
   "source": [
    "d = {'a': 194, 'b': 54, 'c':34, 'd': 44, 'e': 312, 'full':31}\n",
    "\n",
    "ks = d.keys()\n",
    "# initialize variable best_key_so_far to be the first key in d\n",
    "best_key_so_far = list(ks)[0]\n",
    "\n",
    "for k in ks:\n",
    "    # check if the value associated with the current key is\n",
    "    # bigger than the value associated with the best_key_so_far\n",
    "    # if so, save the current key as the best so far\n",
    "    \n",
    "    if d[best_key_so_far] < d[k]:\n",
    "        best_key_so_far = k\n",
    "    \n",
    "    \n",
    "print(\"key \" + best_key_so_far + \" has the highest value, \" + str(d[best_key_so_far]))"
   ]
  },
  {
   "cell_type": "markdown",
   "metadata": {},
   "source": [
    "Example: Create a dictionary called d that keeps track of all the characters in the string placement and notes how many times each character was seen. Then, find the key with the lowest value in this dictionary and assign that key to key_with_min_value."
   ]
  },
  {
   "cell_type": "code",
   "execution_count": null,
   "metadata": {},
   "outputs": [],
   "source": [
    "placement = \"Beaches are cool places to visit in spring however the Mackinaw Bridge is near. Most people visit Mackinaw later since the island is a cool place to explore.\"\n",
    "\n",
    "d = {}\n",
    "for c in placement:\n",
    "    if c not in d:\n",
    "        d[c] = 0\n",
    "    d[c] = d[c] + 1\n",
    "\n",
    "keys = list(d.keys())\n",
    "key_with_min_value = keys[0]\n",
    "\n",
    "for key in keys:\n",
    "    if d[key] < d[key_with_min_value]:\n",
    "        key_with_min_value = key"
   ]
  },
  {
   "cell_type": "markdown",
   "metadata": {},
   "source": [
    "Example: Create a dictionary called lett_d that keeps track of all of the characters in the string product and notes how many times each character was seen. Then, find the key with the highest value in this dictionary and assign that key to key_with_max_value."
   ]
  },
  {
   "cell_type": "code",
   "execution_count": null,
   "metadata": {},
   "outputs": [],
   "source": [
    "product = \"iphone and android phones\"\n",
    "\n",
    "lett_d = {}\n",
    "\n",
    "for c in product:\n",
    "    if c not in lett_d:\n",
    "        lett_d[c] = 0\n",
    "    lett_d[c] +=1\n",
    "print(lett_d)\n",
    "\n",
    "keys = list(lett_d.keys())\n",
    "\n",
    "key_with_max_value = keys[0]\n",
    "\n",
    "for key in keys:\n",
    "    if lett_d[key] > lett_d[key_with_max_value]:\n",
    "        key_with_max_value = key\n",
    "print(key_with_max_value)"
   ]
  },
  {
   "cell_type": "markdown",
   "metadata": {},
   "source": [
    "Finally, there is the csv.dictionary module. "
   ]
  },
  {
   "cell_type": "code",
   "execution_count": null,
   "metadata": {},
   "outputs": [],
   "source": [
    "import csv\n",
    "\n",
    "with open('fileName.csv', 'r') as f:\n",
    "    reader = csv.DictReader(f)\n",
    "    for row in reader:\n",
    "        if row['field1'] != NA: \n",
    "            print(f'{row[field2]}: {row[field3]}; {row[field4]}')"
   ]
  }
 ],
 "metadata": {
  "kernelspec": {
   "display_name": "Python 3",
   "language": "python",
   "name": "python3"
  },
  "language_info": {
   "codemirror_mode": {
    "name": "ipython",
    "version": 3
   },
   "file_extension": ".py",
   "mimetype": "text/x-python",
   "name": "python",
   "nbconvert_exporter": "python",
   "pygments_lexer": "ipython3",
   "version": "3.11.5"
  }
 },
 "nbformat": 4,
 "nbformat_minor": 2
}
