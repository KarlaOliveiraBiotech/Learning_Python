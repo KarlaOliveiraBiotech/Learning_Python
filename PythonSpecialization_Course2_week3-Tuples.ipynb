{
 "cells": [
  {
   "cell_type": "markdown",
   "metadata": {},
   "source": [
    "#### Course 2\n",
    "##### Week 3 - Tuples"
   ]
  },
  {
   "cell_type": "markdown",
   "metadata": {},
   "source": [
    "Tuples are \"immutable lists\". We create them by opening and closing parenthesis, and putting lots of information between them. However, if we do not put info inside parenthesis, python will pack it as tupple as well.\n",
    "<br> So, this "
   ]
  },
  {
   "cell_type": "code",
   "execution_count": 1,
   "metadata": {},
   "outputs": [
    {
     "name": "stdout",
     "output_type": "stream",
     "text": [
      "2009\n"
     ]
    }
   ],
   "source": [
    "julia = ('Julia', 'Roberts', 1967, 'Duplicity', 2009, 'Acress', 'Atlanta, Georgia')\n",
    "print(julia[4])"
   ]
  },
  {
   "cell_type": "markdown",
   "metadata": {},
   "source": [
    "is equal to this"
   ]
  },
  {
   "cell_type": "code",
   "execution_count": 2,
   "metadata": {},
   "outputs": [
    {
     "name": "stdout",
     "output_type": "stream",
     "text": [
      "2009\n"
     ]
    }
   ],
   "source": [
    "julia = 'Julia', 'Roberts', 1967, 'Duplicity', 2009, 'Acress', 'Atlanta, Georgia'\n",
    "print(julia[4])"
   ]
  },
  {
   "cell_type": "markdown",
   "metadata": {},
   "source": [
    "This property is useful when returning value in a function. Since return function returnes only one value, combining it as a tuple makes a lot of sense."
   ]
  },
  {
   "cell_type": "code",
   "execution_count": 4,
   "metadata": {},
   "outputs": [
    {
     "name": "stdout",
     "output_type": "stream",
     "text": [
      "(62.8318, 314.159)\n"
     ]
    }
   ],
   "source": [
    "def circleInfo(r):\n",
    "    \"\"\" Return (circumference, area) of a circle of radius r \"\"\"\n",
    "    c = 2 * 3.14159 * r\n",
    "    a = 3.14159 * r * r\n",
    "    return c, a         # It's easier to read\n",
    "    # return (c, a)     # It is correct as well\n",
    "    # return [c, a]     # Works but it is not the preferred method because it returns x and y in a mutable list rather than a tuple which is more efficient.\n",
    "\n",
    "print(circleInfo(10))"
   ]
  },
  {
   "cell_type": "markdown",
   "metadata": {},
   "source": [
    "It is also common to unpacking the returned values as follows"
   ]
  },
  {
   "cell_type": "code",
   "execution_count": 5,
   "metadata": {},
   "outputs": [
    {
     "name": "stdout",
     "output_type": "stream",
     "text": [
      "(62.8318, 314.159)\n",
      "62.8318\n",
      "314.159\n"
     ]
    }
   ],
   "source": [
    "def circleInfo(r):\n",
    "    \"\"\" Return (circumference, area) of a circle of radius r \"\"\"\n",
    "    c = 2 * 3.14159 * r\n",
    "    a = 3.14159 * r * r\n",
    "    return c, a     # It can be written with parenthesis as well\n",
    "\n",
    "print(circleInfo(10))\n",
    "\n",
    "circumference, area = circleInfo(10)  # This is unpacking concept\n",
    "print(circumference)\n",
    "print(area)"
   ]
  },
  {
   "cell_type": "markdown",
   "metadata": {},
   "source": [
    "Another example of unpacking tuples is:"
   ]
  },
  {
   "cell_type": "code",
   "execution_count": 6,
   "metadata": {},
   "outputs": [
    {
     "name": "stdout",
     "output_type": "stream",
     "text": [
      "Roberts\n"
     ]
    }
   ],
   "source": [
    "julia = 'Julia', 'Roberts', 1967, 'Duplicity', 2009, 'Acress', 'Atlanta, Georgia'\n",
    "\n",
    "name, surname, birth_year, movie, movie_year, profession, birth_place = julia\n",
    "\n",
    "print(surname)"
   ]
  },
  {
   "cell_type": "markdown",
   "metadata": {},
   "source": [
    "But the number of values to be unpacked must match number of variable names.\n",
    "<br><br> Another way to unpack is with a notation \"*\". See below:"
   ]
  },
  {
   "cell_type": "code",
   "execution_count": 9,
   "metadata": {},
   "outputs": [
    {
     "name": "stdout",
     "output_type": "stream",
     "text": [
      "7\n",
      "9\n"
     ]
    }
   ],
   "source": [
    "def add(x, y):\n",
    "    return x + y\n",
    "\n",
    "print(add(3, 4))\n",
    "\n",
    "z = (5, 4)\n",
    "\n",
    "print(add(*z)) # This will unpack the tuple z. But without *, it will cause an error because python will understand that z will be placed at x position"
   ]
  },
  {
   "cell_type": "markdown",
   "metadata": {},
   "source": [
    "Finally, for unpacking tuples of key/value pairs from a dictionary, we can:"
   ]
  },
  {
   "cell_type": "code",
   "execution_count": 14,
   "metadata": {},
   "outputs": [
    {
     "name": "stdout",
     "output_type": "stream",
     "text": [
      "Version 1. key: k1, value: 3\n",
      "Version 1. key: k2, value: 9\n",
      "Version 1. key: k3, value: 4\n",
      "\n",
      "\n",
      "Version 2. key: k1, value: 3\n",
      "Version 2. key: k2, value: 9\n",
      "Version 2. key: k3, value: 4\n",
      "\n",
      "\n",
      "Version 3. key: k1, value: 3\n",
      "Version 3. key: k2, value: 9\n",
      "Version 3. key: k3, value: 4\n"
     ]
    }
   ],
   "source": [
    "# Version 1\n",
    "dic = {'k1': 3, 'k2': 9, 'k3': 4}\n",
    "for d in dic.items():\n",
    "    print('Version 1. key: {}, value: {}'.format(d[0], d[1]))\n",
    "\n",
    "print(\"\\n\")\n",
    "\n",
    "# Version 2\n",
    "dic = {'k1': 3, 'k2': 9, 'k3': 4}\n",
    "for d in dic.items():\n",
    "    k = d[0]\n",
    "    v = d[1]\n",
    "    print('Version 2. key: {}, value: {}'.format(k, v))\n",
    "\n",
    "print(\"\\n\")\n",
    "\n",
    "# Version 3\n",
    "dic = {'k1': 3, 'k2': 9, 'k3': 4}\n",
    "for k, v in dic.items():\n",
    "    print('Version 3. key: {}, value: {}'.format(k, v))"
   ]
  }
 ],
 "metadata": {
  "kernelspec": {
   "display_name": "Python 3",
   "language": "python",
   "name": "python3"
  },
  "language_info": {
   "codemirror_mode": {
    "name": "ipython",
    "version": 3
   },
   "file_extension": ".py",
   "mimetype": "text/x-python",
   "name": "python",
   "nbconvert_exporter": "python",
   "pygments_lexer": "ipython3",
   "version": "3.11.5"
  }
 },
 "nbformat": 4,
 "nbformat_minor": 2
}
