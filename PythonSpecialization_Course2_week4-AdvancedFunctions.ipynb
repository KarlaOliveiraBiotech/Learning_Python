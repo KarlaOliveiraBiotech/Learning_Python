{
 "cells": [
  {
   "cell_type": "markdown",
   "metadata": {},
   "source": [
    "#### Course 2\n",
    "##### Week 4 - Advanced Parameters"
   ]
  },
  {
   "cell_type": "markdown",
   "metadata": {},
   "source": [
    "Optional parameters are parameters with a **default** value. This means that, once not informed when the function is called, it will assume the \"default\" value. \n",
    "<br><br> Here is an example:"
   ]
  },
  {
   "cell_type": "code",
   "execution_count": null,
   "metadata": {},
   "outputs": [
    {
     "name": "stdout",
     "output_type": "stream",
     "text": [
      "x, y, z are:  1 ,  2 , and  7\n",
      "Note we did not specify z when we called it.\n"
     ]
    }
   ],
   "source": [
    "def f(x, y, z = 7):\n",
    "    print(\"x, y, z are: \", str(x), \", \", str(y), \", and \", str(z))\n",
    "    print(\"Note we did not specify z when we called it.\")\n",
    "\n",
    "f(1, 2)"
   ]
  },
  {
   "cell_type": "markdown",
   "metadata": {},
   "source": [
    "This means that we can inform all parameters or not. Like this: "
   ]
  },
  {
   "cell_type": "code",
   "execution_count": null,
   "metadata": {},
   "outputs": [
    {
     "name": "stdout",
     "output_type": "stream",
     "text": [
      "In the first case, we passed one argument.\n",
      "x, y, z are:  1 ,  3 , and  7\n",
      "In the second case, we passed two arguments.\n",
      "x, y, z are:  1 ,  5 , and  7\n",
      "In the third case, we passed all arguments.\n",
      "x, y, z are:  1 ,  5 , and  8\n"
     ]
    }
   ],
   "source": [
    "initial = 7\n",
    "def f(x, y = 3, z = initial):\n",
    "    print(\"x, y, z are: \", str(x), \", \", str(y), \", and \", str(z))\n",
    "    \n",
    "print(\"In the first case, we passed one argument.\")\n",
    "f(1)\n",
    "\n",
    "print(\"In the second case, we passed two arguments.\")\n",
    "f(1, 5)\n",
    "\n",
    "print(\"In the third case, we passed all arguments.\")\n",
    "f(1, 5, 8)"
   ]
  },
  {
   "cell_type": "markdown",
   "metadata": {},
   "source": [
    "But if we reset \"initial\" after being evaluated by the function definition, the definition value will be used. For example: "
   ]
  },
  {
   "cell_type": "code",
   "execution_count": null,
   "metadata": {},
   "outputs": [
    {
     "name": "stdout",
     "output_type": "stream",
     "text": [
      "In the first case, we passed one argument.\n",
      "x, y, z are:  1 ,  3 , and  7\n"
     ]
    }
   ],
   "source": [
    "initial = 7\n",
    "def f(x, y = 3, z = initial):\n",
    "    print(\"x, y, z are: \", str(x), \", \", str(y), \", and \", str(z))\n",
    "\n",
    "initial = 10\n",
    "\n",
    "print(\"In the first case, we passed one argument.\")\n",
    "f(1)"
   ]
  },
  {
   "cell_type": "markdown",
   "metadata": {},
   "source": [
    "However, if we want to pass \"x\" and \"z\", it would be necessary to: "
   ]
  },
  {
   "cell_type": "code",
   "execution_count": null,
   "metadata": {},
   "outputs": [
    {
     "name": "stdout",
     "output_type": "stream",
     "text": [
      "x, y, z are:  1 ,  3 , and  6\n"
     ]
    }
   ],
   "source": [
    "initial = 7\n",
    "def f(x, y = 3, z = initial):\n",
    "    print(\"x, y, z are: \", str(x), \", \", str(y), \", and \", str(z))\n",
    "\n",
    "f(1, z = 6) # Keywords arguments. Which allows us to put arguments in any order."
   ]
  },
  {
   "cell_type": "markdown",
   "metadata": {},
   "source": [
    "\"Note\n",
    "\n",
    "Note that we have yet another, slightly different use of the = sign here. As a stand-alone, top-level statement, x=3, the variable x is set to 3. Inside the parentheses that invoke a function, x=3 says that 3 should be bound to the local variable x in the stack frame for the function invocation. Inside the parentheses of a function definition, x=3 says that 3 should be the value for x in every invocation of the function where no value is explicitly provided for x.\""
   ]
  },
  {
   "cell_type": "markdown",
   "metadata": {},
   "source": [
    "Keyword parameters must be placed after positional parameters (in this case, **x**).\n",
    "<br>This is ok:"
   ]
  },
  {
   "cell_type": "code",
   "execution_count": 18,
   "metadata": {},
   "outputs": [
    {
     "name": "stdout",
     "output_type": "stream",
     "text": [
      "x, y, z are:  1 ,  3 , and  6\n"
     ]
    }
   ],
   "source": [
    "initial = 7\n",
    "def f(x, y = 3, z = initial):\n",
    "    print(\"x, y, z are: \", str(x), \", \", str(y), \", and \", str(z))\n",
    "\n",
    "f(x = 1, z = 6)"
   ]
  },
  {
   "cell_type": "markdown",
   "metadata": {},
   "source": [
    "But this is not:"
   ]
  },
  {
   "cell_type": "code",
   "execution_count": 19,
   "metadata": {},
   "outputs": [
    {
     "ename": "SyntaxError",
     "evalue": "positional argument follows keyword argument (2422859874.py, line 5)",
     "output_type": "error",
     "traceback": [
      "\u001b[0;36m  Cell \u001b[0;32mIn[19], line 5\u001b[0;36m\u001b[0m\n\u001b[0;31m    f(z = 6, 1)\u001b[0m\n\u001b[0m              ^\u001b[0m\n\u001b[0;31mSyntaxError\u001b[0m\u001b[0;31m:\u001b[0m positional argument follows keyword argument\n"
     ]
    }
   ],
   "source": [
    "initial = 7\n",
    "def f(x, y = 3, z = initial):\n",
    "    print(\"x, y, z are: \", str(x), \", \", str(y), \", and \", str(z))\n",
    "\n",
    "f(z = 6, 1)"
   ]
  },
  {
   "cell_type": "markdown",
   "metadata": {},
   "source": [
    "Now it is time to understand \"mutation\" and optional parameters. \n",
    "<br><br>\"As our default value gets mutated, it affects feature calls to this function f. Now, an important distinction here is distinguishing between lists that are different objects but have the same value versus this list which is the same object. For example, on Lines 8 and 9, we pass in two different values for L. On Line 8, we pass in a list that has the string hello as it's one item. On Line 9, we pass in a list that looks identical. But because these are separate expressions, then these are actually separate objects.\"\n"
   ]
  },
  {
   "cell_type": "code",
   "execution_count": 14,
   "metadata": {},
   "outputs": [
    {
     "name": "stdout",
     "output_type": "stream",
     "text": [
      "[1]\n",
      "[1, 2]\n",
      "[1, 2, 3]\n",
      "['Hello', 4]\n",
      "['Hello', 5]\n"
     ]
    }
   ],
   "source": [
    "def f(a, L = []):\n",
    "    L.append(a)\n",
    "    return L\n",
    "\n",
    "print(f(1))\n",
    "print(f(2))\n",
    "print(f(3))\n",
    "\n",
    "print(f(4, [\"Hello\"]))\n",
    "print(f(5, [\"Hello\"]))"
   ]
  },
  {
   "cell_type": "markdown",
   "metadata": {},
   "source": [
    "To use .format method in keyword parameters, we can use: "
   ]
  },
  {
   "cell_type": "code",
   "execution_count": 1,
   "metadata": {},
   "outputs": [
    {
     "name": "stdout",
     "output_type": "stream",
     "text": [
      "The scores Jack got were: 69, 71, 66.\n",
      "The scores Jill got were: 80, 74, 79.\n"
     ]
    }
   ],
   "source": [
    "names_score = [(\"Jack\", [69, 71, 66]), (\"Jill\", [80, 74, 79])]\n",
    "\n",
    "for name, scores in names_score:\n",
    "    print(\"The scores {nm} got were: {s1}, {s2}, {s3}.\".format(nm = name, s1 = scores[0], s2 = scores[1], s3 = scores[2]))"
   ]
  },
  {
   "cell_type": "markdown",
   "metadata": {},
   "source": [
    "For using format method to insert a value multiple times, we can also use positional parameters. See below:"
   ]
  },
  {
   "cell_type": "code",
   "execution_count": null,
   "metadata": {},
   "outputs": [
    {
     "name": "stdout",
     "output_type": "stream",
     "text": [
      "'Jack!' she yelled. 'Jack! Jack, say hello!!'\n",
      "'Jill!' she yelled. 'Jill! Jill, say hello!!'\n",
      "'Kate!' she yelled. 'Kate! Kate, say hello!!'\n",
      "'Steve!' she yelled. 'Steve! Steve, say hello!!'\n"
     ]
    }
   ],
   "source": [
    "# This works\n",
    "\n",
    "names = [\"Jack\", \"Jill\", \"Kate\", \"Steve\"]\n",
    "\n",
    "for name in names:\n",
    "    print(\"'{}!' she yelled. '{}! {}, {}!'\".format(name, name, name, \"say hello!\"))"
   ]
  },
  {
   "cell_type": "code",
   "execution_count": 3,
   "metadata": {},
   "outputs": [
    {
     "name": "stdout",
     "output_type": "stream",
     "text": [
      "'Jack!' she yelled. 'Jack! Jack, say hello!!'\n",
      "'Jill!' she yelled. 'Jill! Jill, say hello!!'\n",
      "'Kate!' she yelled. 'Kate! Kate, say hello!!'\n",
      "'Steve!' she yelled. 'Steve! Steve, say hello!!'\n"
     ]
    }
   ],
   "source": [
    "# This also works\n",
    "\n",
    "names = [\"Jack\", \"Jill\", \"Kate\", \"Steve\"]\n",
    "\n",
    "for name in names: \n",
    "    print(\"'{0}!' she yelled. '{0}! {0}, {1}!'\".format(name, \"say hello!\"))"
   ]
  },
  {
   "cell_type": "markdown",
   "metadata": {},
   "source": [
    "Observe the last one (positional) is easier to write and comprehend."
   ]
  },
  {
   "cell_type": "code",
   "execution_count": null,
   "metadata": {},
   "outputs": [],
   "source": [
    "names = [\"Alexey\", \"Catalina\", \"Misuki\", \"Pablo\"]\n",
    "print(\"'{first}!' she yelled. 'Come here, {first}! {f_one}, {f_two}, and {f_three} are here!'\".format(first = names[1], f_one = names[0], f_two = names[2], f_three = names[3]))"
   ]
  },
  {
   "cell_type": "markdown",
   "metadata": {},
   "source": [
    "Exercise 1: Define a function called multiply. It should have one required parameter, a string. It should also have one optional parameter, an integer, named mult_int, with a default value of 10. The function should return the string multiplied by the integer. (i.e.: Given inputs “Hello”, mult_int=3, the function should return “HelloHelloHello”)"
   ]
  },
  {
   "cell_type": "code",
   "execution_count": 7,
   "metadata": {},
   "outputs": [
    {
     "data": {
      "text/plain": [
       "'hellohellohellohellohellohellohellohellohellohello'"
      ]
     },
     "execution_count": 7,
     "metadata": {},
     "output_type": "execute_result"
    }
   ],
   "source": [
    "def multiply(x, mult_int = 10):\n",
    "    return str(x) * mult_int\n",
    "\n",
    "multiply(\"hello\")"
   ]
  },
  {
   "cell_type": "markdown",
   "metadata": {},
   "source": [
    "Exercise 2: Write one line of code that does the following things on the string \" I_learn_a_lot_at_SI016   \"\n",
    "<br>a) Remove both leading and trailing white spaces.\n",
    "<br>b) Replace all \"_\" with a space character.\n",
    "<br>c) Create a list of words from the resulting string."
   ]
  },
  {
   "cell_type": "code",
   "execution_count": 13,
   "metadata": {},
   "outputs": [
    {
     "name": "stdout",
     "output_type": "stream",
     "text": [
      "Original:   I_learn_a_lot_at_SI016   \n",
      "Removes white spaces:  I_learn_a_lot_at_SI016\n",
      "Replace all '_':   I learn a lot at SI016   \n",
      "Creates a list of words:  ['I', 'learn', 'a', 'lot', 'at', 'SI016']\n"
     ]
    }
   ],
   "source": [
    "txt = \" I_learn_a_lot_at_SI016   \"\n",
    "\n",
    "print(\"Original: \", txt)\n",
    "print(\"Removes white spaces: \", txt.strip())\n",
    "print(\"Replace all '_': \", txt.replace(\"_\", \" \"))\n",
    "print(\"Creates a list of words: \", txt.replace(\"_\", \" \").split())"
   ]
  },
  {
   "cell_type": "markdown",
   "metadata": {},
   "source": [
    "The following code will read the data from the CSV file and prints each row in a line."
   ]
  },
  {
   "cell_type": "code",
   "execution_count": 18,
   "metadata": {},
   "outputs": [
    {
     "name": "stdout",
     "output_type": "stream",
     "text": [
      "Samuel got 20 in PS1 and 18 in PS2.\n",
      "Elias got 15 in PS1 and 20 in PS2.\n",
      "Tabata got 20 in PS1 and 20 in PS2.\n",
      "Alberto got 19 in PS1 and 18 in PS2.\n"
     ]
    }
   ],
   "source": [
    "f = open(\"Imaginary_SI106.csv\", 'r')\n",
    "lines = f.readlines()\n",
    "header = lines[0]\n",
    "field_name = header.strip().split(',')\n",
    "\n",
    "\n",
    "for row in lines[1:]:\n",
    "    vals = row.strip().split(',')\n",
    "    nm, ps1, ps2 = vals[0], vals[1], vals[2]\n",
    "    printable = \"{} got {} in PS1 and {} in PS2.\".format(nm, ps1, ps2)\n",
    "    print(printable)"
   ]
  },
  {
   "cell_type": "markdown",
   "metadata": {},
   "source": [
    "Define a function called output that takes the values in each row and returns a string similar to what we printed in the code above."
   ]
  },
  {
   "cell_type": "code",
   "execution_count": 30,
   "metadata": {},
   "outputs": [
    {
     "ename": "NameError",
     "evalue": "name 'lines' is not defined",
     "output_type": "error",
     "traceback": [
      "\u001b[0;31m---------------------------------------------------------------------------\u001b[0m",
      "\u001b[0;31mNameError\u001b[0m                                 Traceback (most recent call last)",
      "Cell \u001b[0;32mIn[30], line 4\u001b[0m\n\u001b[1;32m      1\u001b[0m \u001b[38;5;28;01mdef\u001b[39;00m \u001b[38;5;21moutput\u001b[39m(nm, ps1, ps2):\n\u001b[1;32m      2\u001b[0m     \u001b[38;5;28;01mreturn\u001b[39;00m \u001b[38;5;124m\"\u001b[39m\u001b[38;5;132;01m{}\u001b[39;00m\u001b[38;5;124m got \u001b[39m\u001b[38;5;132;01m{}\u001b[39;00m\u001b[38;5;124m in PS1 and \u001b[39m\u001b[38;5;132;01m{}\u001b[39;00m\u001b[38;5;124m in PS2.\u001b[39m\u001b[38;5;124m\"\u001b[39m\u001b[38;5;241m.\u001b[39mformat(nm, ps1, ps2)\n\u001b[0;32m----> 4\u001b[0m \u001b[38;5;28;01mfor\u001b[39;00m row \u001b[38;5;129;01min\u001b[39;00m \u001b[43mlines\u001b[49m[\u001b[38;5;241m1\u001b[39m:]:\n\u001b[1;32m      5\u001b[0m     vals \u001b[38;5;241m=\u001b[39m row\u001b[38;5;241m.\u001b[39mstrip()\u001b[38;5;241m.\u001b[39msplit(\u001b[38;5;124m'\u001b[39m\u001b[38;5;124m,\u001b[39m\u001b[38;5;124m'\u001b[39m)\n\u001b[1;32m      6\u001b[0m     nm, ps1, ps2 \u001b[38;5;241m=\u001b[39m vals[\u001b[38;5;241m0\u001b[39m], vals[\u001b[38;5;241m1\u001b[39m], vals[\u001b[38;5;241m2\u001b[39m]\n",
      "\u001b[0;31mNameError\u001b[0m: name 'lines' is not defined"
     ]
    }
   ],
   "source": [
    "def output(nm, ps1, ps2):\n",
    "    return \"{} got {} in PS1 and {} in PS2.\".format(nm, ps1, ps2)\n",
    "\n",
    "for row in lines[1:]:\n",
    "    vals = row.strip().split(',')\n",
    "    nm, ps1, ps2 = vals[0], vals[1], vals[2]\n",
    "    printable = output(nm, ps1, ps2)\n",
    "    print(printable) "
   ]
  },
  {
   "cell_type": "markdown",
   "metadata": {},
   "source": [
    "We need to test optional parameter as well, using \"assert\" as previously discussed. It will verify if the implementation was done appropriately.\n",
    "<br> In the case below:"
   ]
  },
  {
   "cell_type": "code",
   "execution_count": null,
   "metadata": {},
   "outputs": [],
   "source": [
    "def count_long_words(words, min_length=5):\n",
    "    ct = 0\n",
    "    for word in words:\n",
    "        if len(word) >= min_length:\n",
    "            ct += 1\n",
    "    return ct\n",
    "\n",
    "test_words = [\"\", \"1\", \"12\", \"123\", \"1234\", \"12345\", \"123456\", \"1234567\"]\n",
    "\n",
    "assert count_long_words(test_words) == 3\n",
    "assert count_long_words(test_words, min_length = 0) == 8\n",
    "assert count_long_words(test_words, min_length = 4) == 4\n",
    "assert count_long_words(test_words, min_length = 100) == 0"
   ]
  },
  {
   "cell_type": "markdown",
   "metadata": {},
   "source": [
    "As seen here, there was no output, meaning all tests passed."
   ]
  },
  {
   "cell_type": "markdown",
   "metadata": {},
   "source": [
    "Lambda expressions are way to define anoumosly functions. Take a look below. Both expressions are equivalent."
   ]
  },
  {
   "cell_type": "code",
   "execution_count": 11,
   "metadata": {},
   "outputs": [
    {
     "name": "stdout",
     "output_type": "stream",
     "text": [
      "This is 'func' function:  14\n",
      "Now, this is lambda function:  14\n"
     ]
    }
   ],
   "source": [
    "def func(x, y):\n",
    "    z = x + y\n",
    "    print(\"This is 'func' function: \", z)\n",
    "    return z\n",
    "\n",
    "oct = lambda x, y : x + y\n",
    "\n",
    "func(5, 9)\n",
    "print(\"Now, this is lambda function: \", oct(5, 9))\n"
   ]
  },
  {
   "cell_type": "markdown",
   "metadata": {},
   "source": [
    "We don't need to give a name to lambda function. It would be perfectly fine ommiting \"oct = \" above. \n",
    "<br>Additionally, **return** is implict on lambda function, meaning there is no need to write it down."
   ]
  },
  {
   "cell_type": "code",
   "execution_count": 13,
   "metadata": {},
   "outputs": [
    {
     "name": "stdout",
     "output_type": "stream",
     "text": [
      "4\n"
     ]
    }
   ],
   "source": [
    "print((lambda x: x-2)(6)) # Here we call de anonymously lambda function."
   ]
  },
  {
   "cell_type": "markdown",
   "metadata": {},
   "source": [
    "\"A function, whether named or anonymous, can be called by placing parentheses () after it. In this case, because there is one parameter, there is one value in parentheses. This works the same way for the named function and the anonymous function produced by the lambda expression. The lambda expression had to go in parentheses just for the purposes of grouping all its contents together. Without the extra parentheses around it on line 10, the interpreter would group things differently and make a function of x that returns x - 2(6).\""
   ]
  },
  {
   "cell_type": "code",
   "execution_count": null,
   "metadata": {},
   "outputs": [
    {
     "name": "stdout",
     "output_type": "stream",
     "text": [
      "5\n",
      "This is 'a': ['macaco', 'cachorro', 'gato', 'cobra', 'gavião', 'periquito']\n",
      "This is 'b': ['macaco', 'cachorro', 'gato', 'cobra', 'gavião', 'periquito']\n",
      "This is 'a': ['cachorro', 'gato', 'cobra', 'gavião', 'periquito']\n",
      "This is 'b': ['cachorro', 'gato', 'cobra', 'gavião', 'periquito']\n",
      "This is the original 'c':  This is a test.\n",
      "This is the 'new c':  This is a .\n",
      "This is 'd':  This is a test.\n"
     ]
    }
   ],
   "source": [
    "a = [\"macaco\", \"cachorro\", \"gato\", \"cobra\", \"gavião\"]\n",
    "\n",
    "print(len(a))\n",
    "assert len(a) == 5\n",
    "\n",
    "b = a\n",
    "a.append(\"periquito\")\n",
    "\n",
    "print(\"This is 'a':\" , a)\n",
    "print(\"This is 'b':\" , b)\n",
    "\n",
    "a.remove(\"macaco\")\n",
    "print(\"This is 'a':\" , a)\n",
    "print(\"This is 'b':\" , b)\n",
    "\n",
    "\n",
    "\n",
    "c = \"This is a test.\"\n",
    "d = c\n",
    "\n",
    "print(\"This is the original 'c': \", c)\n",
    "c = c.replace('test', \"\")\n",
    "print(\"This is the 'new c': \", c)\n",
    "print(\"This is 'd': \", d)"
   ]
  },
  {
   "cell_type": "code",
   "execution_count": null,
   "metadata": {},
   "outputs": [
    {
     "ename": "NameError",
     "evalue": "name 'lines' is not defined",
     "output_type": "error",
     "traceback": [
      "\u001b[0;31m---------------------------------------------------------------------------\u001b[0m",
      "\u001b[0;31mNameError\u001b[0m                                 Traceback (most recent call last)",
      "Cell \u001b[0;32mIn[27], line 3\u001b[0m\n\u001b[1;32m      1\u001b[0m x \u001b[38;5;241m=\u001b[39m \u001b[38;5;28;01mlambda\u001b[39;00m nm, ps1, ps2: \u001b[38;5;124m\"\u001b[39m\u001b[38;5;132;01m{}\u001b[39;00m\u001b[38;5;124m got \u001b[39m\u001b[38;5;132;01m{}\u001b[39;00m\u001b[38;5;124m in PS1 and \u001b[39m\u001b[38;5;132;01m{}\u001b[39;00m\u001b[38;5;124m in PS2.\u001b[39m\u001b[38;5;124m\"\u001b[39m\u001b[38;5;241m.\u001b[39mformat(nm, ps1, ps2) \n\u001b[0;32m----> 3\u001b[0m \u001b[38;5;28;01mfor\u001b[39;00m row \u001b[38;5;129;01min\u001b[39;00m \u001b[43mlines\u001b[49m[\u001b[38;5;241m1\u001b[39m:]:\n\u001b[1;32m      4\u001b[0m     vals \u001b[38;5;241m=\u001b[39m row\u001b[38;5;241m.\u001b[39mstrip()\u001b[38;5;241m.\u001b[39msplit(\u001b[38;5;124m'\u001b[39m\u001b[38;5;124m,\u001b[39m\u001b[38;5;124m'\u001b[39m)\n\u001b[1;32m      5\u001b[0m     nm, ps1, ps2 \u001b[38;5;241m=\u001b[39m vals[\u001b[38;5;241m0\u001b[39m], vals[\u001b[38;5;241m1\u001b[39m], vals[\u001b[38;5;241m2\u001b[39m]\n",
      "\u001b[0;31mNameError\u001b[0m: name 'lines' is not defined"
     ]
    }
   ],
   "source": [
    "def output(nm, ps1, ps2):\n",
    "    return \"{} got {} in PS1 and {} in PS2.\".format(nm, ps1, ps2)\n",
    "\n",
    "x = lambda nm, ps1, ps2: \"{} got {} in PS1 and {} in PS2.\".format(nm, ps1, ps2) \n",
    "\n",
    "for row in lines[1:]:\n",
    "    vals = row.strip().split(',')\n",
    "    nm, ps1, ps2 = vals[0], vals[1], vals[2]\n",
    "    printable = output(nm, ps1, ps2)\n",
    "    print(printable) "
   ]
  },
  {
   "cell_type": "code",
   "execution_count": null,
   "metadata": {},
   "outputs": [
    {
     "ename": "TypeError",
     "evalue": "'int' object is not callable",
     "output_type": "error",
     "traceback": [
      "\u001b[0;31m---------------------------------------------------------------------------\u001b[0m",
      "\u001b[0;31mTypeError\u001b[0m                                 Traceback (most recent call last)",
      "Cell \u001b[0;32mIn[4], line 8\u001b[0m\n\u001b[1;32m      4\u001b[0m myFunction \u001b[38;5;241m=\u001b[39m \u001b[38;5;28;01mlambda\u001b[39;00m: \u001b[38;5;241m10\u001b[39m\n\u001b[1;32m      7\u001b[0m doSomething(myFunction)\n\u001b[0;32m----> 8\u001b[0m \u001b[43mdoSomething\u001b[49m\u001b[43m(\u001b[49m\u001b[43mmyFunction\u001b[49m\u001b[43m(\u001b[49m\u001b[43m)\u001b[49m\u001b[43m)\u001b[49m\n",
      "Cell \u001b[0;32mIn[4], line 2\u001b[0m, in \u001b[0;36mdoSomething\u001b[0;34m(f, andAdd)\u001b[0m\n\u001b[1;32m      1\u001b[0m \u001b[38;5;28;01mdef\u001b[39;00m \u001b[38;5;21mdoSomething\u001b[39m(f, andAdd\u001b[38;5;241m=\u001b[39m\u001b[38;5;241m3\u001b[39m):\n\u001b[0;32m----> 2\u001b[0m   \u001b[38;5;28;01mreturn\u001b[39;00m \u001b[43mf\u001b[49m\u001b[43m(\u001b[49m\u001b[43m)\u001b[49m \u001b[38;5;241m+\u001b[39m andAdd\n",
      "\u001b[0;31mTypeError\u001b[0m: 'int' object is not callable"
     ]
    }
   ],
   "source": [
    "def doSomething(f, andAdd=3):\n",
    "  return f() + andAdd\n",
    "\n",
    "myFunction = lambda: 10\n",
    "\n",
    "\n",
    "doSomething(myFunction)\n"
   ]
  },
  {
   "cell_type": "markdown",
   "metadata": {},
   "source": [
    "Now, see few examples of Advanced Functions in use:"
   ]
  },
  {
   "cell_type": "code",
   "execution_count": null,
   "metadata": {},
   "outputs": [],
   "source": [
    "def mult(x, y = 6):\n",
    "    return x * y \n",
    "\n",
    "mult(5)"
   ]
  },
  {
   "cell_type": "code",
   "execution_count": null,
   "metadata": {},
   "outputs": [],
   "source": [
    "def greeting(name, greeting = \"Hello \", excl = \"!\"):\n",
    "    return \"{}{}{}\".format(greeting, name, excl)\n",
    "\n",
    "greeting(\"Bob\")\n",
    "\n",
    "raise NotImplementedError()\n",
    "\n",
    "print(greeting(\"Bob\"))\n",
    "print(greeting(\"\"))\n",
    "print(greeting(\"Bob\", excl='!!!'))"
   ]
  },
  {
   "cell_type": "code",
   "execution_count": null,
   "metadata": {},
   "outputs": [],
   "source": [
    "def sum(intx, intz = 5):\n",
    "    return intx + intz\n",
    "\n",
    "sum(5)\n",
    "\n",
    "raise NotImplementedError()"
   ]
  },
  {
   "cell_type": "code",
   "execution_count": null,
   "metadata": {},
   "outputs": [],
   "source": [
    "def test(x, y = True, dict1 = {2:3, 4:5, 6:8}):\n",
    "    if y == True:\n",
    "        if x in dict1:\n",
    "            return dict1[x]\n",
    "    if y == False:\n",
    "        return False\n",
    "\n",
    "test(2)"
   ]
  },
  {
   "cell_type": "code",
   "execution_count": null,
   "metadata": {},
   "outputs": [],
   "source": [
    "def checkingIfIn(x, direction = True, d = {'apple': 2, 'pear': 1, 'fruit': 19, 'orange': 5, 'banana': 3, 'grapes': 2, 'watermelon': 7}):\n",
    "    if direction == True: \n",
    "        if x in d:\n",
    "            return True\n",
    "        else:\n",
    "            return False\n",
    "    elif direction == False:\n",
    "        if x not in d: \n",
    "            return True\n",
    "        return False\n",
    "\n",
    "    \n",
    "checkingIfIn('grapes') \n"
   ]
  },
  {
   "cell_type": "code",
   "execution_count": null,
   "metadata": {},
   "outputs": [],
   "source": [
    "def checkingIfIn_2(a, direction = True, d = {'apple': 2, 'pear': 1, 'fruit': 19, 'orange': 5, 'banana': 3, 'grapes': 2, 'watermelon': 7}):\n",
    "    if direction == True:\n",
    "        if a in d:\n",
    "            return d[a]\n",
    "        else:\n",
    "            return False\n",
    "    else:\n",
    "        if a not in d:\n",
    "            return True\n",
    "        else:\n",
    "            return d[a]\n",
    "        \n",
    "# Call the function so that it returns False and assign that function call to the variable c_false\n",
    "c_false = None\n",
    "# Call the fucntion so that it returns True and assign it to the variable c_true\n",
    "c_true = None\n",
    "# Call the function so that the value of fruit is assigned to the variable fruit_ans\n",
    "fruit_ans = None\n",
    "# Call the function using the first and third parameter so that the value 8 is assigned to the variable param_check\n",
    "param_check = None\n",
    "\n",
    "# YOUR CODE HERE\n",
    "\n",
    "c_false = checkingIfIn_2('strawberry')\n",
    "c_true = checkingIfIn_2('strawberry', direction = False)\n",
    "fruit_ans = checkingIfIn_2('fruit')\n",
    "param_check = checkingIfIn_2('mango', d = {'mango': 8})\n",
    "\n",
    "print(fruit_ans)\n",
    "\n",
    "raise NotImplementedError()"
   ]
  }
 ],
 "metadata": {
  "kernelspec": {
   "display_name": "Python 3",
   "language": "python",
   "name": "python3"
  },
  "language_info": {
   "codemirror_mode": {
    "name": "ipython",
    "version": 3
   },
   "file_extension": ".py",
   "mimetype": "text/x-python",
   "name": "python",
   "nbconvert_exporter": "python",
   "pygments_lexer": "ipython3",
   "version": "3.11.5"
  }
 },
 "nbformat": 4,
 "nbformat_minor": 2
}
