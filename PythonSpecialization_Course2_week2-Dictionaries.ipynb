{
 "cells": [
  {
   "cell_type": "markdown",
   "metadata": {},
   "source": [
    "#### Course 2\n",
    "##### Week 2 - Dictionaries and Dictionary accumulation"
   ]
  },
  {
   "cell_type": "markdown",
   "metadata": {},
   "source": [
    "Key-value pairs where key is the immutable \"word\" and value is the \"definition\". \n",
    "\n",
    "Unlike lists, there is no order in dictionary. In fact, dictionaries are built-in mapping types."
   ]
  },
  {
   "cell_type": "code",
   "execution_count": 3,
   "metadata": {},
   "outputs": [
    {
     "name": "stdout",
     "output_type": "stream",
     "text": [
      "{'one': 'uno', 'two': 'dos', 'three': 'tres'}\n",
      "{'three': 'tres', 'one': 'uno', 'two': 'dos'}\n",
      "banana, apple, orange\n",
      "dos\n",
      "uno\n"
     ]
    }
   ],
   "source": [
    "eng2sp = {} # Creates an empty dictionary.\n",
    "\n",
    "eng2sp['one'] = 'uno' # 'One' is the key and 'uno' the value.\n",
    "eng2sp['two'] = 'dos'\n",
    "eng2sp['three'] = 'tres'\n",
    "\n",
    "print(eng2sp)\n",
    "\n",
    "# or \n",
    "\n",
    "eng2sp2 = {'three': 'tres', 'one': 'uno', 'two': 'dos'}\n",
    "print(eng2sp2)\n",
    "\n",
    "# To add a list to a key in dictionary\n",
    "inventory = {}\n",
    "inventory['fruits'] = ['banana, apple, orange']\n",
    "print(inventory['fruits'])\n",
    "\n",
    "\n",
    "\n",
    "# To access the value of a key\n",
    "value = eng2sp['two']\n",
    "print(value)\n",
    "\n",
    "print(eng2sp['one'])"
   ]
  },
  {
   "cell_type": "markdown",
   "metadata": {},
   "source": [
    "It is possible to make some operations in a dictionary such as deleting and assingming a new value to a specific key as it's follows: "
   ]
  },
  {
   "cell_type": "code",
   "execution_count": 4,
   "metadata": {},
   "outputs": [
    {
     "name": "stdout",
     "output_type": "stream",
     "text": [
      "{'banana': 2, 'apple': 56, 'pineapple': 45, 'orange': 18}\n",
      "{'apple': 56, 'pineapple': 45, 'orange': 18}\n",
      "{'apple': 56, 'pineapple': 45, 'orange': 39}\n",
      "{'apple': 0, 'pineapple': 45, 'orange': 39}\n",
      "3\n",
      "{'apple': 0, 'pineapple': 45, 'orange': 39}\n"
     ]
    }
   ],
   "source": [
    "inventory = {\"banana\": 2, \"apple\": 56, \"pineapple\": 45, \"orange\": 18}\n",
    "print(inventory)\n",
    "\n",
    "\n",
    "# Delets a key in inventory\n",
    "del inventory['banana'] \n",
    "print(inventory)\n",
    "\n",
    "# Assigns new value to an item in the dictionary \"inventory\"\n",
    "inventory['orange'] = inventory['orange'] + 21\n",
    "print(inventory)\n",
    "\n",
    "inventory['apple'] = 0\n",
    "print(inventory)\n",
    "\n",
    "\n",
    "# Checks the number of itens in the dictionary\n",
    "num_itens = len(inventory)\n",
    "print(num_itens)\n",
    "\n",
    "# Removes a value in a list inside a dictionary\n",
    "inventory2 = {\n",
    "    'gold' : 500,\n",
    "    'pouch' : ['flint', 'twine', 'gemstone'],\n",
    "    'backpack' : ['xylophone','dagger', 'bedroll','bread loaf']\n",
    "}\n",
    "inventory2['backpack'].remove('dagger')\n",
    "print(inventory)"
   ]
  },
  {
   "cell_type": "markdown",
   "metadata": {},
   "source": [
    "Methods in dictionary"
   ]
  },
  {
   "cell_type": "code",
   "execution_count": 22,
   "metadata": {},
   "outputs": [
    {
     "name": "stdout",
     "output_type": "stream",
     "text": [
      "{'banana': 2, 'apple': 56, 'pineapple': 45, 'orange': 18}\n",
      "dict_keys(['banana', 'apple', 'pineapple', 'orange'])\n",
      "dict_values([2, 56, 45, 18])\n",
      "dict_items([('banana', 2), ('apple', 56), ('pineapple', 45), ('orange', 18)])\n"
     ]
    }
   ],
   "source": [
    "inventory = {\"banana\": 2, \"apple\": 56, \"pineapple\": 45, \"orange\": 18}\n",
    "print(inventory)\n",
    "\n",
    "keys = inventory.keys() # This is not a real list. To create it, use list(inventory.keys())\n",
    "values = inventory.values()\n",
    "itens = inventory.items() # List of tuples\n",
    "\n",
    "\n",
    "print(keys)\n",
    "print(values)\n",
    "print(itens)\n"
   ]
  },
  {
   "cell_type": "markdown",
   "metadata": {},
   "source": [
    "To iterate over a dictionary, it is possible to do:"
   ]
  },
  {
   "cell_type": "code",
   "execution_count": 26,
   "metadata": {},
   "outputs": [
    {
     "name": "stdout",
     "output_type": "stream",
     "text": [
      "banana has value of 2\n",
      "apple has value of 56\n",
      "pineapple has value of 45\n",
      "orange has value of 18\n",
      "['banana', 'apple', 'pineapple', 'orange']\n",
      "Got the key banana a value of 2\n",
      "Got the key apple a value of 56\n",
      "Got the key pineapple a value of 45\n",
      "Got the key orange a value of 18\n"
     ]
    }
   ],
   "source": [
    "inventory = {\"banana\": 2, \"apple\": 56, \"pineapple\": 45, \"orange\": 18}\n",
    "\n",
    "# First method\n",
    "for key in inventory.keys():\n",
    "    print(key, \"has value of\", inventory[key])\n",
    "\n",
    "keys = list(inventory.keys())\n",
    "print(keys)\n",
    "\n",
    "\n",
    "# Second method\n",
    "for key in inventory: # Automatically assumes we are iterating over keys.\n",
    "    print(\"Got the key\", key, \"a value of\", inventory[key])"
   ]
  },
  {
   "cell_type": "markdown",
   "metadata": {},
   "source": [
    "Gettinv values of a ['key'] is not present in the dictionary causes a runtime error. "
   ]
  },
  {
   "cell_type": "markdown",
   "metadata": {},
   "source": [
    "To check if a key is in the dictionary, try it:"
   ]
  },
  {
   "cell_type": "code",
   "execution_count": 29,
   "metadata": {},
   "outputs": [
    {
     "name": "stdout",
     "output_type": "stream",
     "text": [
      "True\n",
      "False\n"
     ]
    }
   ],
   "source": [
    "inventory = {\"banana\": 2, \"apple\": 56, \"pineapple\": 45, \"orange\": 18}\n",
    "\n",
    "print(\"apple\" in inventory)\n",
    "print('cherry' in inventory)"
   ]
  },
  {
   "cell_type": "markdown",
   "metadata": {},
   "source": [
    "As seen before, \"in\" is a boolean that returns True or False. "
   ]
  },
  {
   "cell_type": "markdown",
   "metadata": {},
   "source": [
    "It can also retrieves associated value by .get() method:"
   ]
  },
  {
   "cell_type": "code",
   "execution_count": 31,
   "metadata": {},
   "outputs": [
    {
     "name": "stdout",
     "output_type": "stream",
     "text": [
      "56\n",
      "0\n"
     ]
    }
   ],
   "source": [
    "inventory = {\"banana\": 2, \"apple\": 56, \"pineapple\": 45, \"orange\": 18}\n",
    "\n",
    "print(inventory.get('apple'))\n",
    "print(inventory.get('cherry', 0)) # Once there is no key value, it returns '0'."
   ]
  },
  {
   "cell_type": "markdown",
   "metadata": {},
   "source": [
    "An easiest way to retrieve values without indexing the dictionary."
   ]
  },
  {
   "cell_type": "code",
   "execution_count": 32,
   "metadata": {},
   "outputs": [
    {
     "name": "stdout",
     "output_type": "stream",
     "text": [
      "Got banana that maps to 2\n",
      "Got apple that maps to 56\n",
      "Got pineapple that maps to 45\n",
      "Got orange that maps to 18\n"
     ]
    }
   ],
   "source": [
    "inventory = {\"banana\": 2, \"apple\": 56, \"pineapple\": 45, \"orange\": 1}\n",
    "\n",
    "for key, value in inventory.items():\n",
    "    print(\"Got\", key, \"that maps to\", value)"
   ]
  },
  {
   "cell_type": "markdown",
   "metadata": {},
   "source": [
    "Aliasing a dictionary points out to the same object, which means that changing one dictionary will change them all."
   ]
  },
  {
   "cell_type": "code",
   "execution_count": 33,
   "metadata": {},
   "outputs": [
    {
     "name": "stdout",
     "output_type": "stream",
     "text": [
      "True\n",
      "left\n"
     ]
    }
   ],
   "source": [
    "opposites = {'up': 'down', 'right': 'wrong', 'true': 'false'}\n",
    "alias = opposites\n",
    "\n",
    "print(alias is opposites)\n",
    "\n",
    "alias['right'] = 'left'\n",
    "print(opposites['right'])\n"
   ]
  },
  {
   "cell_type": "markdown",
   "metadata": {},
   "source": [
    "To avoid it, and creating copies, it is possible to use .copy."
   ]
  },
  {
   "cell_type": "code",
   "execution_count": 35,
   "metadata": {},
   "outputs": [
    {
     "name": "stdout",
     "output_type": "stream",
     "text": [
      "{'up': 'down', 'right': 'wrong', 'true': 'false'}\n",
      "{'up': 'down', 'right': 'left', 'true': 'false'}\n"
     ]
    }
   ],
   "source": [
    "opposites = {'up': 'down', 'right': 'wrong', 'true': 'false'}\n",
    "\n",
    "acopy = opposites.copy()\n",
    "acopy['right'] = 'left'    # does not change opposites\n",
    "\n",
    "print(opposites)\n",
    "print(acopy)"
   ]
  }
 ],
 "metadata": {
  "kernelspec": {
   "display_name": "Python 3",
   "language": "python",
   "name": "python3"
  },
  "language_info": {
   "codemirror_mode": {
    "name": "ipython",
    "version": 3
   },
   "file_extension": ".py",
   "mimetype": "text/x-python",
   "name": "python",
   "nbconvert_exporter": "python",
   "pygments_lexer": "ipython3",
   "version": "3.11.5"
  }
 },
 "nbformat": 4,
 "nbformat_minor": 2
}
