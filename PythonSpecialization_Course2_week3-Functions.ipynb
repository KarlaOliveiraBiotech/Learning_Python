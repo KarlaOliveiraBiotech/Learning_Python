{
 "cells": [
  {
   "cell_type": "markdown",
   "metadata": {},
   "source": [
    "#### Course 2\n",
    "##### Week 3 - Functions"
   ]
  },
  {
   "cell_type": "markdown",
   "metadata": {},
   "source": [
    "Functions are defined by \"def\" and the first line (triple quotes) is a docstring. Another way to retrieve this information is: <function_name>.__doc__"
   ]
  },
  {
   "cell_type": "code",
   "execution_count": null,
   "metadata": {},
   "outputs": [],
   "source": [
    "def nameFunction( parameters ):\n",
    "    \"\"\"This is a function docstring\"\"\" \n",
    "    statements"
   ]
  },
  {
   "cell_type": "markdown",
   "metadata": {},
   "source": [
    "When creating a function, there are different types of parameters. <br> Inside the parenthesis they are called **formal parameter** or **parameter name** or **input parameter**. <br><br><br>On the other hand, the **parameter value** or **argument** or **actual parameter** is what we pass to the function. <br>So, the parameter value will go positionally to the formal parameter."
   ]
  },
  {
   "cell_type": "code",
   "execution_count": 1,
   "metadata": {},
   "outputs": [
    {
     "name": "stdout",
     "output_type": "stream",
     "text": [
      "10\n"
     ]
    },
    {
     "data": {
      "text/plain": [
       "10"
      ]
     },
     "execution_count": 1,
     "metadata": {},
     "output_type": "execute_result"
    }
   ],
   "source": [
    "def add(a,b):\n",
    "    total = a + b\n",
    "    print(total) # It does print but, w/o the \"return\" statement, the function returns \"None\"\n",
    "    return total # It \"gets\" or returns the value\n",
    "\n",
    "\n",
    "add(9,1)"
   ]
  },
  {
   "cell_type": "markdown",
   "metadata": {},
   "source": [
    "In this case, \"9\" and \"1\" are actual parameters that will be bounded to  \"a\" and \"b\", which are formal parameters. "
   ]
  },
  {
   "cell_type": "code",
   "execution_count": 3,
   "metadata": {},
   "outputs": [
    {
     "name": "stdout",
     "output_type": "stream",
     "text": [
      "here\n",
      "5\n"
     ]
    }
   ],
   "source": [
    "def weird():\n",
    "    print(\"here\")\n",
    "    return 5\n",
    "    print(\"there\")\n",
    "    return 10\n",
    "\n",
    "x = weird()\n",
    "print(x)\n"
   ]
  },
  {
   "cell_type": "markdown",
   "metadata": {},
   "source": [
    "But observes that \"return\" finishes the function. It stops right there. So, print(there) will never print it."
   ]
  },
  {
   "cell_type": "code",
   "execution_count": 8,
   "metadata": {},
   "outputs": [
    {
     "name": "stdout",
     "output_type": "stream",
     "text": [
      "False\n",
      "True\n"
     ]
    }
   ],
   "source": [
    "def longer_than_five(names):\n",
    "    for name in names:\n",
    "        if len(name) > 5:\n",
    "            return True\n",
    "    return False\n",
    "\n",
    "names1 = ['Ana', 'Gio', 'Theo', 'Karla']\n",
    "names2 = ['Ana', 'Barbara', 'Paula', 'George']\n",
    "\n",
    "\n",
    "print(longer_than_five(names1))\n",
    "print(longer_than_five(names2))"
   ]
  },
  {
   "cell_type": "markdown",
   "metadata": {},
   "source": [
    "It's always a good idea type hints to explain your function. <br>For example: "
   ]
  },
  {
   "cell_type": "code",
   "execution_count": 16,
   "metadata": {},
   "outputs": [
    {
     "data": {
      "text/plain": [
       "25"
      ]
     },
     "execution_count": 16,
     "metadata": {},
     "output_type": "execute_result"
    }
   ],
   "source": [
    "def sums(numbers: int) -> int:\n",
    "    \"\"\"Sums a list of integers. \n",
    "    Returns a integer as well (-> int)\"\"\"\n",
    "    \n",
    "    tot = 0 \n",
    "    for i in numbers:\n",
    "        tot = tot + i\n",
    "    \n",
    "    return tot\n",
    "\n",
    "sums([9, 10, 1, 3, 2])\n"
   ]
  },
  {
   "cell_type": "markdown",
   "metadata": {},
   "source": [
    "Note it does not print anything about the type of formal parameter type. However, it helps to programmers to read the code of each other (and even for ourselves). <br><br> To make it clear, let's see something cool:"
   ]
  },
  {
   "cell_type": "code",
   "execution_count": 22,
   "metadata": {},
   "outputs": [
    {
     "data": {
      "text/plain": [
       "{'Hello': 1,\n",
       " 'there,': 1,\n",
       " 'hope': 1,\n",
       " 'you': 2,\n",
       " 'are': 1,\n",
       " 'enjoying': 1,\n",
       " 'it': 1,\n",
       " '!': 2,\n",
       " 'See': 1,\n",
       " 'soon': 1}"
      ]
     },
     "execution_count": 22,
     "metadata": {},
     "output_type": "execute_result"
    }
   ],
   "source": [
    "def count_words(text: str) -> dict[str, int]:\n",
    "    \"\"\"It counts words of a sting and returns a dictionary with each word (string) as key \n",
    "    and it number of times it appears as a value.\"\"\"\n",
    "\n",
    "    words = text.split()\n",
    "    d = {}\n",
    "    for word in words:\n",
    "        if word not in d:\n",
    "            d[word] = 0\n",
    "        d[word] += 1\n",
    "    return d\n",
    "\n",
    "count_words(\"Hello there, hope you are enjoying it ! See you soon !\")\n"
   ]
  },
  {
   "cell_type": "markdown",
   "metadata": {},
   "source": [
    "Here, the function count_words has the formal parameter \"text\" that is a string. It splits the string by 'space'. Then, it adds each new word to a dictionary (the string word becomes a key) and the number of times it appears become the corresponding value associated to that key."
   ]
  }
 ],
 "metadata": {
  "kernelspec": {
   "display_name": "Python 3",
   "language": "python",
   "name": "python3"
  },
  "language_info": {
   "codemirror_mode": {
    "name": "ipython",
    "version": 3
   },
   "file_extension": ".py",
   "mimetype": "text/x-python",
   "name": "python",
   "nbconvert_exporter": "python",
   "pygments_lexer": "ipython3",
   "version": "3.11.5"
  }
 },
 "nbformat": 4,
 "nbformat_minor": 2
}
