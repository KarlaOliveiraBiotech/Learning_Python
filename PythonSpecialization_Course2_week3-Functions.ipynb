{
 "cells": [
  {
   "cell_type": "markdown",
   "metadata": {},
   "source": [
    "#### Course 2\n",
    "##### Week 3 - Functions"
   ]
  },
  {
   "cell_type": "markdown",
   "metadata": {},
   "source": [
    "Functions are defined by \"def\" and the first line (triple quotes) is a docstring. Another way to retrieve this information is: <function_name>.__doc__"
   ]
  },
  {
   "cell_type": "code",
   "execution_count": null,
   "metadata": {},
   "outputs": [],
   "source": [
    "def nameFunction( parameters ):\n",
    "    \"\"\"This is a function docstring\"\"\" \n",
    "    statements"
   ]
  },
  {
   "cell_type": "markdown",
   "metadata": {},
   "source": [
    "When creating a function, there are different types of parameters. <br> Inside the parenthesis they are called **formal parameter** or **parameter name** or **input parameter**. <br><br><br>On the other hand, the **parameter value** or **argument** or **actual parameter** is what we pass to the function. <br>So, the parameter value will go positionally to the formal parameter."
   ]
  },
  {
   "cell_type": "code",
   "execution_count": 2,
   "metadata": {},
   "outputs": [
    {
     "name": "stdout",
     "output_type": "stream",
     "text": [
      "here\n",
      "5\n",
      "10\n"
     ]
    },
    {
     "data": {
      "text/plain": [
       "10"
      ]
     },
     "execution_count": 2,
     "metadata": {},
     "output_type": "execute_result"
    }
   ],
   "source": [
    "def add(a,b):\n",
    "    total = a + b\n",
    "    print(total) # It does print but, w/o the \"return\" statement, the function returns \"None\"\n",
    "    return total # It \"gets\" or returns the value\n",
    "\n",
    "\n",
    "\n",
    "add(9,1)"
   ]
  },
  {
   "cell_type": "markdown",
   "metadata": {},
   "source": [
    "In this case, \"9\" and \"1\" are actual parameters that will be bounced to  \"a\" and \"b\", which are formal parameters. "
   ]
  },
  {
   "cell_type": "code",
   "execution_count": 3,
   "metadata": {},
   "outputs": [
    {
     "name": "stdout",
     "output_type": "stream",
     "text": [
      "here\n",
      "5\n"
     ]
    }
   ],
   "source": [
    "def weird():\n",
    "    print(\"here\")\n",
    "    return 5\n",
    "    print(\"there\")\n",
    "    return 10\n",
    "\n",
    "x = weird()\n",
    "print(x)\n"
   ]
  },
  {
   "cell_type": "markdown",
   "metadata": {},
   "source": [
    "But observes that \"return\" finishes the function. It stops right there. So, print(there) will never print it."
   ]
  }
 ],
 "metadata": {
  "kernelspec": {
   "display_name": "Python 3",
   "language": "python",
   "name": "python3"
  },
  "language_info": {
   "codemirror_mode": {
    "name": "ipython",
    "version": 3
   },
   "file_extension": ".py",
   "mimetype": "text/x-python",
   "name": "python",
   "nbconvert_exporter": "python",
   "pygments_lexer": "ipython3",
   "version": "3.11.5"
  }
 },
 "nbformat": 4,
 "nbformat_minor": 2
}
