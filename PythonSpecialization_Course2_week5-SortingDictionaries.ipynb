{
 "cells": [
  {
   "cell_type": "markdown",
   "metadata": {},
   "source": [
    "#### Course 2\n",
    "##### Week 5 - Sorting Dictionaries"
   ]
  },
  {
   "cell_type": "markdown",
   "metadata": {},
   "source": [
    "It is possible to sort dictionaries based both on keys and values. \n",
    "<br> For the first:"
   ]
  },
  {
   "cell_type": "code",
   "execution_count": 13,
   "metadata": {},
   "outputs": [
    {
     "name": "stdout",
     "output_type": "stream",
     "text": [
      "This is the simplest method (without sort)\n",
      "E appears 4 times\n",
      "F appears 3 times\n",
      "B appears 2 times\n",
      "A appears 2 times\n",
      "D appears 6 times\n",
      "I appears 2 times\n",
      "C appears 1 times\n",
      "G appears 2 times\n",
      "\n",
      "This is the sorting for keys: \n",
      "A appears 2 times\n",
      "B appears 2 times\n",
      "C appears 1 times\n",
      "D appears 6 times\n",
      "E appears 4 times\n",
      "F appears 3 times\n",
      "G appears 2 times\n",
      "I appears 2 times\n"
     ]
    }
   ],
   "source": [
    "lst = ['E', 'F', 'E', 'B', 'A', 'D', 'F', 'I', 'I', 'C', 'B', 'A', 'D', 'D', 'E', 'D', 'E', 'F', 'G', 'D', 'D', 'G']\n",
    "\n",
    "d = {}\n",
    "for x in lst:\n",
    "    if x in d:\n",
    "        d[x] = d[x] + 1\n",
    "    else:\n",
    "        d[x] = 1\n",
    "\n",
    "print(\"This is the simplest method (without sort)\")\n",
    "for x in d.keys():\n",
    "    print(\"{} appears {} times\".format(x, d[x]))\n",
    "\n",
    "print(\"\\nThis is the sorting for keys: \")\n",
    "for x in sorted(d.keys()):\n",
    "    print(\"{} appears {} times\".format(x, d[x]))"
   ]
  },
  {
   "cell_type": "markdown",
   "metadata": {},
   "source": [
    "And for the second:"
   ]
  },
  {
   "cell_type": "code",
   "execution_count": 20,
   "metadata": {},
   "outputs": [
    {
     "name": "stdout",
     "output_type": "stream",
     "text": [
      "\n",
      "Now, we can sort by values: \n",
      "C appears 1 times\n",
      "B appears 2 times\n",
      "A appears 2 times\n",
      "I appears 2 times\n",
      "G appears 2 times\n",
      "F appears 3 times\n",
      "E appears 4 times\n",
      "D appears 6 times\n",
      "\n",
      "Now, we can sort by values form highest to lowest: \n",
      "D appears 6 times\n",
      "E appears 4 times\n",
      "F appears 3 times\n",
      "B appears 2 times\n",
      "A appears 2 times\n",
      "I appears 2 times\n",
      "G appears 2 times\n",
      "C appears 1 times\n"
     ]
    }
   ],
   "source": [
    "lst = ['E', 'F', 'E', 'B', 'A', 'D', 'F', 'I', 'I', 'C', 'B', 'A', 'D', 'D', 'E', 'D', 'E', 'F', 'G', 'D', 'D', 'G']\n",
    "\n",
    "d = {}\n",
    "for x in lst:\n",
    "    if x in d:\n",
    "        d[x] = d[x] + 1\n",
    "    else:\n",
    "        d[x] = 1\n",
    "        \n",
    "print(\"\\nNow, we can sort by values: \")\n",
    "for x in sorted(d.keys(), key = lambda x: d[x]):    # See there are two meanings for 'key'. One is the key in dic, another, is the parameter.\n",
    "    print(\"{} appears {} times\".format(x, d[x]))\n",
    "    \n",
    "print(\"\\nNow, we can sort by values form highest to lowest: \")\n",
    "for x in sorted(d.keys(), key = lambda x: d[x], reverse = True):\n",
    "    print(\"{} appears {} times\".format(x, d[x]))"
   ]
  },
  {
   "cell_type": "markdown",
   "metadata": {},
   "source": [
    "\"Note: When we sort the keys, passing a function with key=lambda x: d[x] does not specify to sort the keys of a dictionary. The lists of keys are passed as the first parameter value in the invocation of sort. The key parameter provides a function that says how to sort them.\""
   ]
  },
  {
   "cell_type": "code",
   "execution_count": null,
   "metadata": {},
   "outputs": [
    {
     "name": "stdout",
     "output_type": "stream",
     "text": [
      "And this in another way.\n",
      "D appears 6 times.\n",
      "E appears 4 times.\n",
      "F appears 3 times.\n",
      "B appears 2 times.\n",
      "A appears 2 times.\n",
      "I appears 2 times.\n",
      "G appears 2 times.\n",
      "C appears 1 times.\n"
     ]
    }
   ],
   "source": [
    "lst = ['E', 'F', 'E', 'B', 'A', 'D', 'F', 'I', 'I', 'C', 'B', 'A', 'D', 'D', 'E', 'D', 'E', 'F', 'G', 'D', 'D', 'G']\n",
    "\n",
    "d = {}\n",
    "for x in lst:\n",
    "    if x in d:\n",
    "        d[x] = d[x] + 1\n",
    "    else:\n",
    "        d[x] = 1\n",
    "\n",
    "print(\"And this in another way.\")\n",
    "y = sorted(d.keys(), key = lambda k: d[k], reverse = True)\n",
    "\n",
    "for k in y:\n",
    "    print(\"{} appears {} times.\".format(k, d[k]))"
   ]
  },
  {
   "cell_type": "markdown",
   "metadata": {},
   "source": [
    "But for experienced programmers, this is more common:"
   ]
  },
  {
   "cell_type": "code",
   "execution_count": 24,
   "metadata": {},
   "outputs": [
    {
     "name": "stdout",
     "output_type": "stream",
     "text": [
      "This is for more experienced programmers.\n",
      "D appears 6 times.\n",
      "E appears 4 times.\n",
      "F appears 3 times.\n",
      "B appears 2 times.\n",
      "A appears 2 times.\n",
      "I appears 2 times.\n",
      "G appears 2 times.\n",
      "C appears 1 times.\n"
     ]
    }
   ],
   "source": [
    "lst = ['E', 'F', 'E', 'B', 'A', 'D', 'F', 'I', 'I', 'C', 'B', 'A', 'D', 'D', 'E', 'D', 'E', 'F', 'G', 'D', 'D', 'G']\n",
    "\n",
    "d = {}\n",
    "for x in lst:\n",
    "    if x in d:\n",
    "        d[x] = d[x] + 1\n",
    "    else:\n",
    "        d[x] = 1\n",
    "\n",
    "print(\"This is for more experienced programmers.\")\n",
    "for k in sorted(d, key = lambda k: d[k], reverse=True):\n",
    "    print(\"{} appears {} times.\".format(k, d[k]))"
   ]
  },
  {
   "cell_type": "markdown",
   "metadata": {},
   "source": [
    "To improve sorting, we can break ties. In tuples, it first sorts first element, and then, the second. Ans so on.\n",
    "<br>So, we can use 'tuples' as a property of parameter *key*."
   ]
  },
  {
   "cell_type": "code",
   "execution_count": 25,
   "metadata": {},
   "outputs": [
    {
     "name": "stdout",
     "output_type": "stream",
     "text": [
      "kiwi\n",
      "pear\n",
      "apple\n",
      "mango\n",
      "peach\n",
      "papaya\n",
      "blueberry\n"
     ]
    }
   ],
   "source": [
    "fruits = ['peach', 'kiwi', 'apple', 'blueberry', 'papaya', 'mango', 'pear']\n",
    "\n",
    "new_order = sorted(fruits, key = lambda fruit_name: (len(fruit_name), fruit_name))\n",
    "\n",
    "for fruit in new_order:\n",
    "    print(fruit)"
   ]
  },
  {
   "cell_type": "markdown",
   "metadata": {},
   "source": [
    "As you can see from result above, it first sorted fruits based on number of letters. Then, it sorted alphabetically. <br>So, in this case, **apple** came later than 'kiwi' and 'pear' because the number of letters. And **kiwi** came before than **pear** because 'k' comes first."
   ]
  },
  {
   "cell_type": "code",
   "execution_count": 36,
   "metadata": {},
   "outputs": [
    {
     "name": "stdout",
     "output_type": "stream",
     "text": [
      "This does not have reverse:  ['blueberry', 'papaya', 'apple', 'mango', 'peach', 'kiwi', 'pear']\n",
      "This has reverse too:  ['pear', 'kiwi', 'peach', 'mango', 'apple', 'papaya', 'blueberry']\n",
      "This has reverse, without '-':  ['blueberry', 'papaya', 'peach', 'mango', 'apple', 'pear', 'kiwi']\n"
     ]
    }
   ],
   "source": [
    "fruits = ['peach', 'kiwi', 'apple', 'blueberry', 'papaya', 'mango', 'pear']\n",
    "print(\"This does not have reverse: \", sorted(fruits, key=lambda fruit_name: (-len(fruit_name), fruit_name)))\n",
    "print(\"This has reverse too: \", sorted(fruits, key = lambda fruit_name: (-len(fruit_name), fruit_name), reverse = True))\n",
    "print(\"This has reverse, without '-': \", sorted(fruits, key = lambda fruit_name: (len(fruit_name), fruit_name), reverse = True))"
   ]
  },
  {
   "cell_type": "markdown",
   "metadata": {},
   "source": [
    "To create a function which property we want to sort by is the number of cities that begin with the letter ‘S’, we can use:"
   ]
  },
  {
   "cell_type": "code",
   "execution_count": 37,
   "metadata": {},
   "outputs": [
    {
     "name": "stdout",
     "output_type": "stream",
     "text": [
      "['Michigan', 'Washington', 'Minesonta']\n"
     ]
    }
   ],
   "source": [
    "def s_cities_count(city_list):\n",
    "    ct = 0\n",
    "    for city in city_list:\n",
    "        if city[0] == \"S\":\n",
    "            ct += 1\n",
    "    return ct \n",
    "\n",
    "\n",
    "\n",
    "states = {'Minesonta': ['St. Paul', 'Minneapolis', 'Saint Cloud', 'Stillwater'],\n",
    "          'Michigan': ['Ann Arbor', 'Traverse City', 'Lansing', 'Kalamazoo'],\n",
    "          'Washington': ['Seattle', 'Tacoma', 'Olympia', 'Vancouver']}\n",
    "\n",
    "\n",
    "print(sorted(states, key = lambda state: s_cities_count(states[state])))"
   ]
  },
  {
   "cell_type": "markdown",
   "metadata": {},
   "source": [
    "But it also can be done by:"
   ]
  },
  {
   "cell_type": "code",
   "execution_count": 38,
   "metadata": {},
   "outputs": [
    {
     "name": "stdout",
     "output_type": "stream",
     "text": [
      "['Michigan', 'Washington', 'Minesonta']\n"
     ]
    }
   ],
   "source": [
    "def s_cities_count(city_list):\n",
    "    ct = 0\n",
    "    for city in city_list:\n",
    "        if city[0] == \"S\":\n",
    "            ct += 1\n",
    "    return ct \n",
    "\n",
    "def s_cities_count_for_state(state):\n",
    "    cities_list = states[state]\n",
    "    return s_cities_count(cities_list)\n",
    "\n",
    "\n",
    "states = {'Minesonta': ['St. Paul', 'Minneapolis', 'Saint Cloud', 'Stillwater'],\n",
    "          'Michigan': ['Ann Arbor', 'Traverse City', 'Lansing', 'Kalamazoo'],\n",
    "          'Washington': ['Seattle', 'Tacoma', 'Olympia', 'Vancouver']}\n",
    "\n",
    "print(sorted(states, key = s_cities_count_for_state))"
   ]
  },
  {
   "cell_type": "markdown",
   "metadata": {},
   "source": [
    "Exercise 1: Each tuple in the following list represents the product name, its price, and its quantity. Sort the list based on the product price from highest to lowest. Then, redo this question without using \"reverse\"."
   ]
  },
  {
   "cell_type": "code",
   "execution_count": 74,
   "metadata": {},
   "outputs": [
    {
     "name": "stdout",
     "output_type": "stream",
     "text": [
      "[('phone', '$410.50', 20), ('headphone', '$199.99', 5), ('mug', '$10.99', 100)]\n",
      "[('phone', '$410.50', 20), ('headphone', '$199.99', 5), ('mug', '$10.99', 100)]\n"
     ]
    }
   ],
   "source": [
    "stock = [(\"phone\", \"$410.50\", 20), (\"mug\", \"$10.99\", 100), (\"headphone\", \"$199.99\", 5)]\n",
    "\n",
    "print(sorted(stock, key = lambda stock: stock[1], reverse=True))\n",
    "print(sorted(stock, key = lambda stock: -float(stock[1][1:])))\n",
    "\n"
   ]
  },
  {
   "cell_type": "markdown",
   "metadata": {},
   "source": [
    "Exercise 2: Write a function that takes one product tuple as input and computes the total price of the product."
   ]
  },
  {
   "cell_type": "code",
   "execution_count": null,
   "metadata": {},
   "outputs": [
    {
     "name": "stdout",
     "output_type": "stream",
     "text": [
      "8210.0\n",
      "1099.0\n",
      "999.95\n",
      "[('headphone', '$199.99', 5), ('mug', '$10.99', 100), ('phone', '$410.50', 20)]\n"
     ]
    }
   ],
   "source": [
    "def total_val(tup):\n",
    "    price = float(tup[1][1:])\n",
    "    qtd = tup[2]\n",
    "    cost = price * qtd\n",
    "    return cost\n",
    "\n",
    "stock = [(\"phone\", \"$410.50\", 20), (\"mug\", \"$10.99\", 100), (\"headphone\", \"$199.99\", 5)]\n",
    "\n",
    "for y in stock:\n",
    "    print(total_val(y))\n",
    "\n",
    "print(sorted(stock, key = lambda stock: total_val))"
   ]
  },
  {
   "cell_type": "markdown",
   "metadata": {},
   "source": [
    "Exercise 3: Would the following code work to sort the keys in reverse order? Why or why not?"
   ]
  },
  {
   "cell_type": "code",
   "execution_count": 98,
   "metadata": {},
   "outputs": [
    {
     "name": "stdout",
     "output_type": "stream",
     "text": [
      "['mango', 'banana', 'apple']\n"
     ]
    }
   ],
   "source": [
    "def order_value_v2(key, d):\n",
    "    return -1 * d[key]\n",
    "\n",
    "dictionary = {'apple': 1, 'banana': 6, 'mango': 8}\n",
    "print(sorted(dictionary, key = lambda x: order_value_v2(x, dictionary)))"
   ]
  },
  {
   "cell_type": "markdown",
   "metadata": {},
   "source": [
    "Exercise 4: Given the following code, how will the results be sorted?"
   ]
  },
  {
   "cell_type": "code",
   "execution_count": null,
   "metadata": {},
   "outputs": [
    {
     "name": "stdout",
     "output_type": "stream",
     "text": [
      "Caloocan sunny -78\n"
     ]
    }
   ],
   "source": [
    "weather = {'Reykjavik': {'temp':60, 'condition': 'rainy'},\n",
    "           'Buenos Aires': {'temp': 55, 'condition': 'cloudy'},\n",
    "           'Cairo': {'temp': 96, 'condition': 'sunny'},\n",
    "           'Berlin': {'temp': 89, 'condition': 'sunny'},\n",
    "           'Caloocan': {'temp': 78, 'condition': 'sunny'}}\n",
    "\n",
    "#print(sorted(weather.items(), key=lambda w: (w[1]['condition'], -w[1]['temp']), reverse=True))\n",
    "\n",
    "# def temp(dict):\n",
    "#     for w in dict:\n",
    "#         return (w, dict[w]['condition'], dict[w]['temp'])\n",
    "\n",
    "def temp(dict):\n",
    "    print(w, dict[w]['condition'], dict[w]['temp'])"
   ]
  },
  {
   "cell_type": "code",
   "execution_count": null,
   "metadata": {},
   "outputs": [
    {
     "name": "stdout",
     "output_type": "stream",
     "text": [
      "<class 'list'>\n"
     ]
    }
   ],
   "source": [
    "ids = [17573005, 17572342, 17579000, 17570002, 17572345, 17579329]\n",
    "sorted_id = None\n",
    "\n",
    "sorted_id = sorted(ids, key = lambda id: str(id)[4:])\n",
    "\n",
    "print(type(sorted_id))\n",
    "\n"
   ]
  }
 ],
 "metadata": {
  "kernelspec": {
   "display_name": "Python 3",
   "language": "python",
   "name": "python3"
  },
  "language_info": {
   "codemirror_mode": {
    "name": "ipython",
    "version": 3
   },
   "file_extension": ".py",
   "mimetype": "text/x-python",
   "name": "python",
   "nbconvert_exporter": "python",
   "pygments_lexer": "ipython3",
   "version": "3.11.5"
  }
 },
 "nbformat": 4,
 "nbformat_minor": 2
}
