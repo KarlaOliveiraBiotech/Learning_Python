{
 "cells": [
  {
   "cell_type": "markdown",
   "metadata": {},
   "source": [
    "#### Course 2\n",
    "##### Week 5 - Sorting Dictionaries"
   ]
  },
  {
   "cell_type": "markdown",
   "metadata": {},
   "source": [
    "It is possible to sort dictionaries based both on keys and values. \n",
    "<br> For the first:"
   ]
  },
  {
   "cell_type": "code",
   "execution_count": 13,
   "metadata": {},
   "outputs": [
    {
     "name": "stdout",
     "output_type": "stream",
     "text": [
      "This is the simplest method (without sort)\n",
      "E appears 4 times\n",
      "F appears 3 times\n",
      "B appears 2 times\n",
      "A appears 2 times\n",
      "D appears 6 times\n",
      "I appears 2 times\n",
      "C appears 1 times\n",
      "G appears 2 times\n",
      "\n",
      "This is the sorting for keys: \n",
      "A appears 2 times\n",
      "B appears 2 times\n",
      "C appears 1 times\n",
      "D appears 6 times\n",
      "E appears 4 times\n",
      "F appears 3 times\n",
      "G appears 2 times\n",
      "I appears 2 times\n"
     ]
    }
   ],
   "source": [
    "lst = ['E', 'F', 'E', 'B', 'A', 'D', 'F', 'I', 'I', 'C', 'B', 'A', 'D', 'D', 'E', 'D', 'E', 'F', 'G', 'D', 'D', 'G']\n",
    "\n",
    "d = {}\n",
    "for x in lst:\n",
    "    if x in d:\n",
    "        d[x] = d[x] + 1\n",
    "    else:\n",
    "        d[x] = 1\n",
    "\n",
    "print(\"This is the simplest method (without sort)\")\n",
    "for x in d.keys():\n",
    "    print(\"{} appears {} times\".format(x, d[x]))\n",
    "\n",
    "print(\"\\nThis is the sorting for keys: \")\n",
    "for x in sorted(d.keys()):\n",
    "    print(\"{} appears {} times\".format(x, d[x]))"
   ]
  },
  {
   "cell_type": "markdown",
   "metadata": {},
   "source": [
    "And for the second:"
   ]
  },
  {
   "cell_type": "code",
   "execution_count": 20,
   "metadata": {},
   "outputs": [
    {
     "name": "stdout",
     "output_type": "stream",
     "text": [
      "\n",
      "Now, we can sort by values: \n",
      "C appears 1 times\n",
      "B appears 2 times\n",
      "A appears 2 times\n",
      "I appears 2 times\n",
      "G appears 2 times\n",
      "F appears 3 times\n",
      "E appears 4 times\n",
      "D appears 6 times\n",
      "\n",
      "Now, we can sort by values form highest to lowest: \n",
      "D appears 6 times\n",
      "E appears 4 times\n",
      "F appears 3 times\n",
      "B appears 2 times\n",
      "A appears 2 times\n",
      "I appears 2 times\n",
      "G appears 2 times\n",
      "C appears 1 times\n"
     ]
    }
   ],
   "source": [
    "lst = ['E', 'F', 'E', 'B', 'A', 'D', 'F', 'I', 'I', 'C', 'B', 'A', 'D', 'D', 'E', 'D', 'E', 'F', 'G', 'D', 'D', 'G']\n",
    "\n",
    "d = {}\n",
    "for x in lst:\n",
    "    if x in d:\n",
    "        d[x] = d[x] + 1\n",
    "    else:\n",
    "        d[x] = 1\n",
    "        \n",
    "print(\"\\nNow, we can sort by values: \")\n",
    "for x in sorted(d.keys(), key = lambda x: d[x]):    # See there are two meanings for 'key'. One is the key in dic, another, is the parameter.\n",
    "    print(\"{} appears {} times\".format(x, d[x]))\n",
    "    \n",
    "print(\"\\nNow, we can sort by values form highest to lowest: \")\n",
    "for x in sorted(d.keys(), key = lambda x: d[x], reverse = True):\n",
    "    print(\"{} appears {} times\".format(x, d[x]))"
   ]
  },
  {
   "cell_type": "markdown",
   "metadata": {},
   "source": [
    "\"Note: When we sort the keys, passing a function with key=lambda x: d[x] does not specify to sort the keys of a dictionary. The lists of keys are passed as the first parameter value in the invocation of sort. The key parameter provides a function that says how to sort them.\""
   ]
  },
  {
   "cell_type": "code",
   "execution_count": 22,
   "metadata": {},
   "outputs": [
    {
     "name": "stdout",
     "output_type": "stream",
     "text": [
      "And this in another way.\n",
      "D appears 6 times.\n",
      "E appears 4 times.\n",
      "F appears 3 times.\n",
      "B appears 2 times.\n",
      "A appears 2 times.\n",
      "I appears 2 times.\n",
      "G appears 2 times.\n",
      "C appears 1 times.\n"
     ]
    }
   ],
   "source": [
    "lst = ['E', 'F', 'E', 'B', 'A', 'D', 'F', 'I', 'I', 'C', 'B', 'A', 'D', 'D', 'E', 'D', 'E', 'F', 'G', 'D', 'D', 'G']\n",
    "\n",
    "d = {}\n",
    "for x in lst:\n",
    "    if x in d:\n",
    "        d[x] = d[x] + 1\n",
    "    else:\n",
    "        d[x] = 1\n",
    "\n",
    "print(\"And this in another way.\")\n",
    "y = sorted(d.keys(), key = lambda k: d[k], reverse = True)\n",
    "\n",
    "for k in y:\n",
    "    print(\"{} appears {} times.\".format(k, d[k]))"
   ]
  },
  {
   "cell_type": "markdown",
   "metadata": {},
   "source": [
    "But for experienced programmers, this is more common:"
   ]
  },
  {
   "cell_type": "code",
   "execution_count": null,
   "metadata": {},
   "outputs": [
    {
     "name": "stdout",
     "output_type": "stream",
     "text": [
      "D appears 6 times.\n",
      "E appears 4 times.\n",
      "F appears 3 times.\n",
      "B appears 2 times.\n",
      "A appears 2 times.\n",
      "I appears 2 times.\n",
      "G appears 2 times.\n",
      "C appears 1 times.\n"
     ]
    }
   ],
   "source": [
    "lst = ['E', 'F', 'E', 'B', 'A', 'D', 'F', 'I', 'I', 'C', 'B', 'A', 'D', 'D', 'E', 'D', 'E', 'F', 'G', 'D', 'D', 'G']\n",
    "\n",
    "d = {}\n",
    "for x in lst:\n",
    "    if x in d:\n",
    "        d[x] = d[x] + 1\n",
    "    else:\n",
    "        d[x] = 1\n",
    "\n",
    "print(\"This is for more experienced programmers.\")\n",
    "for k in sorted(d, key = lambda k: d[k], reverse=True):\n",
    "    print(\"{} appears {} times.\".format(k, d[k]))"
   ]
  }
 ],
 "metadata": {
  "kernelspec": {
   "display_name": "Python 3",
   "language": "python",
   "name": "python3"
  },
  "language_info": {
   "codemirror_mode": {
    "name": "ipython",
    "version": 3
   },
   "file_extension": ".py",
   "mimetype": "text/x-python",
   "name": "python",
   "nbconvert_exporter": "python",
   "pygments_lexer": "ipython3",
   "version": "3.11.5"
  }
 },
 "nbformat": 4,
 "nbformat_minor": 2
}
