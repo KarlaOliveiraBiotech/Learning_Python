{
 "cells": [
  {
   "cell_type": "markdown",
   "metadata": {},
   "source": [
    "#### Course 2\n",
    "##### Week 3 - Local and Global Variables, and Side Effects"
   ]
  },
  {
   "cell_type": "markdown",
   "metadata": {},
   "source": [
    "The scope of a variable is the set of statements where a variable name can be accessed. \n",
    "<br><br>\n",
    "\n",
    "Variables inside functions can be accessed only locally, i.e., they do not are \"defined\" outside de function. \n",
    "<br>Let's see:"
   ]
  },
  {
   "cell_type": "code",
   "execution_count": 1,
   "metadata": {},
   "outputs": [
    {
     "ename": "NameError",
     "evalue": "name 'y' is not defined",
     "output_type": "error",
     "traceback": [
      "\u001b[0;31m---------------------------------------------------------------------------\u001b[0m",
      "\u001b[0;31mNameError\u001b[0m                                 Traceback (most recent call last)",
      "Cell \u001b[0;32mIn[1], line 5\u001b[0m\n\u001b[1;32m      2\u001b[0m     \u001b[38;5;28;01mreturn\u001b[39;00m y \u001b[38;5;241m*\u001b[39m y\n\u001b[1;32m      4\u001b[0m z \u001b[38;5;241m=\u001b[39m square(\u001b[38;5;241m10\u001b[39m)\n\u001b[0;32m----> 5\u001b[0m \u001b[38;5;28mprint\u001b[39m(\u001b[43my\u001b[49m)\n",
      "\u001b[0;31mNameError\u001b[0m: name 'y' is not defined"
     ]
    }
   ],
   "source": [
    "def square(y):\n",
    "    return y * y\n",
    "\n",
    "z = square(10)\n",
    "print(y)\n",
    "\n"
   ]
  },
  {
   "cell_type": "markdown",
   "metadata": {},
   "source": [
    "It causes an error, since y is only inside the function square. \n",
    "<br> However, if I change it like this: "
   ]
  },
  {
   "cell_type": "code",
   "execution_count": 2,
   "metadata": {},
   "outputs": [
    {
     "name": "stdout",
     "output_type": "stream",
     "text": [
      "2\n"
     ]
    }
   ],
   "source": [
    "def square(y):\n",
    "    return y * y\n",
    "\n",
    "y = 2\n",
    "z = square(10)\n",
    "print(y)"
   ]
  },
  {
   "cell_type": "markdown",
   "metadata": {},
   "source": [
    "It does not cause error. But this 'y' is not exactly what we are expecting. \n",
    "<br><br>The variable y outside the function - the variable that was printed - is a global variable.\n",
    "<br><br><br> Now, let's take a look on this function: "
   ]
  },
  {
   "cell_type": "code",
   "execution_count": 4,
   "metadata": {},
   "outputs": [
    {
     "ename": "UnboundLocalError",
     "evalue": "cannot access local variable 'y' where it is not associated with a value",
     "output_type": "error",
     "traceback": [
      "\u001b[0;31m---------------------------------------------------------------------------\u001b[0m",
      "\u001b[0;31mUnboundLocalError\u001b[0m                         Traceback (most recent call last)",
      "Cell \u001b[0;32mIn[4], line 8\u001b[0m\n\u001b[1;32m      5\u001b[0m     \u001b[38;5;28;01mreturn\u001b[39;00m y\n\u001b[1;32m      7\u001b[0m y \u001b[38;5;241m=\u001b[39m \u001b[38;5;241m5\u001b[39m\n\u001b[0;32m----> 8\u001b[0m z \u001b[38;5;241m=\u001b[39m \u001b[43msquare\u001b[49m\u001b[43m(\u001b[49m\u001b[38;5;241;43m10\u001b[39;49m\u001b[43m)\u001b[49m\n\u001b[1;32m      9\u001b[0m \u001b[38;5;28mprint\u001b[39m(y)\n",
      "Cell \u001b[0;32mIn[4], line 2\u001b[0m, in \u001b[0;36msquare\u001b[0;34m(x)\u001b[0m\n\u001b[1;32m      1\u001b[0m \u001b[38;5;28;01mdef\u001b[39;00m \u001b[38;5;21msquare\u001b[39m(x):\n\u001b[0;32m----> 2\u001b[0m     w \u001b[38;5;241m=\u001b[39m \u001b[43my\u001b[49m \u001b[38;5;241m+\u001b[39m \u001b[38;5;241m1\u001b[39m\n\u001b[1;32m      3\u001b[0m     y \u001b[38;5;241m=\u001b[39m x \u001b[38;5;241m*\u001b[39m x\n\u001b[1;32m      5\u001b[0m     \u001b[38;5;28;01mreturn\u001b[39;00m y\n",
      "\u001b[0;31mUnboundLocalError\u001b[0m: cannot access local variable 'y' where it is not associated with a value"
     ]
    }
   ],
   "source": [
    "def square(x):\n",
    "    w = y + 1\n",
    "    y = x * x\n",
    "\n",
    "    return y\n",
    "\n",
    "y = 5\n",
    "z = square(10)\n",
    "print(y)"
   ]
  },
  {
   "cell_type": "markdown",
   "metadata": {},
   "source": [
    "It never happens to get the global 'y' at line 7, since the local 'y' was called at line 2 without being previously created. The creation of 'y' was done on line '3'.\n",
    "<br> Now, take a look on it: "
   ]
  },
  {
   "cell_type": "code",
   "execution_count": 7,
   "metadata": {},
   "outputs": [
    {
     "name": "stdout",
     "output_type": "stream",
     "text": [
      "This is the print of the return of square(10): 100\n",
      "5\n"
     ]
    }
   ],
   "source": [
    "def square(x):\n",
    "    w = q + 1\n",
    "    y = x * x\n",
    "\n",
    "    return y\n",
    "\n",
    "y = 5\n",
    "q = 7\n",
    "print(\"This is the print of the return of square(10): \" + str(square(10)))\n",
    "print(y)"
   ]
  },
  {
   "cell_type": "markdown",
   "metadata": {},
   "source": [
    "Note that here there was no error. The function looked for the variable 'q'. 'q' is not a local variable, i.e., it does not appear anywhere inside the function. So, the function searches as a global variable (outside the function) and found it even 'q' definition had happened after the function definition.\n",
    "<br><br>\n",
    "Here, the best idea to avoid problems between global and local variables is ***never calling a global variable inside a function***. Instead, creating another local variable and uses it as parameter, is certainly a best choice."
   ]
  },
  {
   "cell_type": "markdown",
   "metadata": {},
   "source": [
    "Now, if we look here: \n"
   ]
  },
  {
   "cell_type": "code",
   "execution_count": null,
   "metadata": {},
   "outputs": [],
   "source": [
    "numbers = [1, 12, 13, 4]\n",
    "def foo(bar):\n",
    "    aug = str(bar) + \"street\"\n",
    "    return aug\n",
    "\n",
    "addresses = []\n",
    "for item in numbers:\n",
    "    addresses.append(foo(item))"
   ]
  },
  {
   "cell_type": "markdown",
   "metadata": {},
   "source": [
    "Local variables are: bar, aug. This means that formal parameters are local variables."
   ]
  },
  {
   "cell_type": "markdown",
   "metadata": {},
   "source": [
    "Other important info about local and global variables is: 'assignment statements in the local function cannot change variables defined outside function'. So, in the following code: "
   ]
  },
  {
   "cell_type": "code",
   "execution_count": 16,
   "metadata": {},
   "outputs": [
    {
     "name": "stdout",
     "output_type": "stream",
     "text": [
      "2\n",
      "9\n"
     ]
    }
   ],
   "source": [
    "def sums(a, b): \n",
    "    number2 = b\n",
    "    y = a + number2\n",
    "    return y\n",
    "\n",
    "number2 = 9\n",
    "result = sums(1, 1)\n",
    "\n",
    "print(result)\n",
    "print(number2)\n"
   ]
  },
  {
   "cell_type": "markdown",
   "metadata": {},
   "source": [
    "Result is 2 instead of 10 because in the local scope, *number2* is assigned to the value of the variable *b* which is 1 (see line 7). The global variable **number2** did not change. However, they vary in global and local scope.\n",
    "<br><br> This happened because *number2* was used on the left hand of the assignment state **number2 = b**, which creates a local variable. Local and global variables have the same name. <br>As result, it creates a **shadow** where global variable will not be found, since Python finds local variable first. \n",
    "<br><br> To explicitly change a value of global variable in the local scope by typing ***global*** before the local variable that has the same name that the local one. This is a terrible idea, I'm showing for the sake of you understanding, *only*."
   ]
  },
  {
   "cell_type": "code",
   "execution_count": 18,
   "metadata": {},
   "outputs": [
    {
     "name": "stdout",
     "output_type": "stream",
     "text": [
      "2\n",
      "1\n"
     ]
    }
   ],
   "source": [
    "def sums(a, b): \n",
    "    global number2 # Terrible idea! \n",
    "    \n",
    "    number2 = b\n",
    "    y = a + number2\n",
    "    return y\n",
    "\n",
    "number2 = 9\n",
    "result = sums(1, 1)\n",
    "\n",
    "print(result)\n",
    "print(number2) # See the value of number2 changed!"
   ]
  },
  {
   "cell_type": "markdown",
   "metadata": {},
   "source": [
    "Let’s use composition to build up a little more useful function. Recall from the dictionaries chapter that we had a two-step process for finding the letter that appears most frequently in a text string:\n",
    "\n",
    "Accumulate a dictionary with letters as keys and counts as values. See example.\n",
    "\n",
    "Find the best key from that dictionary. See example.\n",
    "\n",
    "We can make functions for each of those and then compose them into a single function that finds the most common letter."
   ]
  },
  {
   "cell_type": "code",
   "execution_count": 1,
   "metadata": {},
   "outputs": [
    {
     "name": "stdout",
     "output_type": "stream",
     "text": [
      "b\n"
     ]
    }
   ],
   "source": [
    "def most_common_letter(s):\n",
    "    frequencies = count_freqs(s)\n",
    "    return best_key(frequencies)\n",
    "\n",
    "def count_freqs(st):\n",
    "    d = {}\n",
    "    for c in st:\n",
    "        if c not in d:\n",
    "             d[c] = 0\n",
    "        d[c] = d[c] + 1\n",
    "    return d\n",
    "\n",
    "def best_key(dictionary):\n",
    "    ks = dictionary.keys()\n",
    "    best_key_so_far = list(ks)[0]  # Have to turn ks into a real list before using [] to select an item\n",
    "    for k in ks:\n",
    "        if dictionary[k] > dictionary[best_key_so_far]:\n",
    "            best_key_so_far = k\n",
    "    return best_key_so_far\n",
    "\n",
    "print(most_common_letter(\"abbbbbbbbbbbccccddddd\"))"
   ]
  },
  {
   "cell_type": "markdown",
   "metadata": {},
   "source": [
    "Write two functions, one called addit and one called mult. addit takes one number as an input and adds 5. mult takes one number as an input, and multiplies that input by whatever is returned by addit, and then returns the result."
   ]
  },
  {
   "cell_type": "code",
   "execution_count": 2,
   "metadata": {},
   "outputs": [
    {
     "name": "stdout",
     "output_type": "stream",
     "text": [
      "150\n"
     ]
    }
   ],
   "source": [
    "def addit(x):\n",
    "    y = x + 5\n",
    "    return y\n",
    "\n",
    "def mult(x):\n",
    "    y = addit(x) * x\n",
    "    return y\n",
    "\n",
    "print(mult(10))"
   ]
  },
  {
   "cell_type": "markdown",
   "metadata": {},
   "source": [
    "When a function change global variables (mutate them), we say it has a side effect. <br>To avoid it, a better practice is to avoid modifying a global variable inside a function, pass the global's variable value as parameter and set the global variable to be equal to a value returned from the function."
   ]
  },
  {
   "cell_type": "code",
   "execution_count": 1,
   "metadata": {},
   "outputs": [
    {
     "name": "stdout",
     "output_type": "stream",
     "text": [
      "10\n"
     ]
    }
   ],
   "source": [
    "def double(n):\n",
    "    return 2 * n\n",
    "\n",
    "y = 5\n",
    "y = double(y)\n",
    "print(y)"
   ]
  },
  {
   "cell_type": "markdown",
   "metadata": {},
   "source": [
    "\"You can use the same coding pattern to avoid confusing side effects with sharing of mutable objects. To do that, explicitly make a copy of an object and pass the copy in to the function. Then return the modified copy and reassign it to the original variable if you want to save the changes. The built-in list function, which takes a sequence as a parameter and returns a new list, works to copy an existing list. For dictionaries, you can similarly call the dict function, passing in a dictionary to get a copy of the dictionary back as a return value.\""
   ]
  },
  {
   "cell_type": "code",
   "execution_count": 2,
   "metadata": {},
   "outputs": [
    {
     "name": "stdout",
     "output_type": "stream",
     "text": [
      "['106', 'students', 'are', 'awesome']\n",
      "['Michigan', 'Wolverines', 'are', 'awesome']\n"
     ]
    }
   ],
   "source": [
    "def changeit(lst):\n",
    "   lst[0] = \"Michigan\"\n",
    "   lst[1] = \"Wolverines\"\n",
    "   return lst\n",
    "\t\n",
    "mylst = ['106', 'students', 'are', 'awesome']\n",
    "newlst = changeit(list(mylst))\n",
    "print(mylst)\n",
    "print(newlst)"
   ]
  },
  {
   "cell_type": "markdown",
   "metadata": {},
   "source": [
    "\"In general, any lasting effect that occurs in a function, not through its return value, is called a side effect. There are three ways to have side effects:\n",
    "\n",
    "Printing out a value. This doesn’t change any objects or variable bindings, but it does have a potential lasting effect outside the function execution, because a person might see the output and be influenced by it.\n",
    "\n",
    "Changing the value of a mutable object.\n",
    "\n",
    "Changing the binding of a global variable.\""
   ]
  },
  {
   "cell_type": "markdown",
   "metadata": {},
   "source": [
    "We can test functions. \n",
    "<br> For returning values, it is a good practice write **return value tests**.\n",
    "<br> For mutating objects (like lists), it is a good idea write **side effect tests**. \n",
    "<br> For writing in a file, test if the function **generates the right printed output**. "
   ]
  },
  {
   "cell_type": "code",
   "execution_count": 6,
   "metadata": {},
   "outputs": [],
   "source": [
    "# Case 1: return value tests\n",
    "\n",
    "def square(x):\n",
    "    return x * x\n",
    "\n",
    "assert square(3) == 9   # assert checks if something is true. It so, does nothing. If not, return an error."
   ]
  },
  {
   "cell_type": "markdown",
   "metadata": {},
   "source": [
    "As you see, there is no printing but the function worked, since it did not produce error."
   ]
  },
  {
   "cell_type": "code",
   "execution_count": 7,
   "metadata": {},
   "outputs": [],
   "source": [
    "# Case 2: side effect tests\n",
    "\n",
    "def update_counts(letters, counts_d):\n",
    "    for c in letters:\n",
    "        if c in counts_d:\n",
    "            counts_d[c] = counts_d[c] + 1\n",
    "        else: \n",
    "            counts_d[c] = 1\n",
    "\n",
    "\n",
    "counts = {'a': 3, 'b': 2}\n",
    "update_counts(\"aaab\", counts)\n",
    "# 3 more occurrences of a, so 6 in all\n",
    "assert counts['a'] == 6\n",
    "# 1 more occurrence of b, so 3 in all\n",
    "assert counts['b'] == 3\n",
    "\n",
    "\n",
    "counts = {}\n",
    "update_counts(\"aaab\", counts)\n",
    "# 3 more occurrences of a, so 3 in all\n",
    "assert counts['a'] == 3\n",
    "# 1 more occurrence of b, so 1 in all\n",
    "assert counts['b'] == 1\n",
    "\n",
    "\n",
    "counts_d = {'a': 3, 'b': 2}\n",
    "update_counts(\"aaab\", counts_d)\n",
    "# 3 more occurrences of a, so 6 in all\n",
    "assert counts_d['a'] == 6\n",
    "# 1 more occurrence of b, so 3 in all\n",
    "assert counts_d['b'] == 3\n"
   ]
  },
  {
   "cell_type": "code",
   "execution_count": 9,
   "metadata": {},
   "outputs": [
    {
     "name": "stdout",
     "output_type": "stream",
     "text": [
      "SI106\n",
      "6\n",
      "12\n"
     ]
    }
   ],
   "source": [
    "def concatenation(str1, str2):\n",
    "    print(str1 + str2)\n",
    "    \n",
    "def addition(int1, int2):\n",
    "    return int1 + int2\n",
    "    \n",
    "def times_two(x):\n",
    "    print(x)\n",
    "    return x*2\n",
    "\n",
    "concatenation(\"SI\", \"106\")\n",
    "print(times_two(6))"
   ]
  },
  {
   "cell_type": "code",
   "execution_count": 17,
   "metadata": {},
   "outputs": [
    {
     "data": {
      "text/plain": [
       "'Longer than 5'"
      ]
     },
     "execution_count": 17,
     "metadata": {},
     "output_type": "execute_result"
    }
   ],
   "source": [
    "def length(lst):\n",
    "    if len(lst) >= 5:\n",
    "        return \"Longer than 5\"\n",
    "    elif len(lst) < 5: \n",
    "        return \"Less than 5\"\n",
    "    \n",
    "length([1, 1, 1, 1, 1])"
   ]
  }
 ],
 "metadata": {
  "kernelspec": {
   "display_name": "Python 3",
   "language": "python",
   "name": "python3"
  },
  "language_info": {
   "codemirror_mode": {
    "name": "ipython",
    "version": 3
   },
   "file_extension": ".py",
   "mimetype": "text/x-python",
   "name": "python",
   "nbconvert_exporter": "python",
   "pygments_lexer": "ipython3",
   "version": "3.11.5"
  }
 },
 "nbformat": 4,
 "nbformat_minor": 2
}
