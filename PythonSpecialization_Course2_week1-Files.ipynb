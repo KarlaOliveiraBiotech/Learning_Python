{
 "cells": [
  {
   "cell_type": "markdown",
   "metadata": {},
   "source": [
    "#### Course 2\n",
    "##### Week 1 - Files"
   ]
  },
  {
   "cell_type": "markdown",
   "metadata": {},
   "source": [
    "To open a file use:"
   ]
  },
  {
   "cell_type": "code",
   "execution_count": null,
   "metadata": {},
   "outputs": [],
   "source": [
    "fileref = open(\"fileName\", \"r\") # \"r\" is for reading, \"w\" for writting.\n",
    "\n",
    "fileref.close() # Remember to always close a file."
   ]
  },
  {
   "cell_type": "markdown",
   "metadata": {},
   "source": [
    "Without the FileName in quotation, means I'm asking to open a *variable* already bound to the file I want to.\n",
    "\n",
    "However, there are three methods to read a file: \n",
    "\n",
    "1. read()       ---> it returns the entire contents of the file as a single string.\n",
    "\n",
    "2. readlines()  ---> it returns the entire contents of the file as a list of strings where each content is a list corresponds to a line.\n",
    "\n",
    "3. readline()   ---> observe that is in **singular** instead of plural. It reads one line at the time and returns it as a **string**. \n",
    "\n",
    "Both methods 2 and 3 adds a newline by the end. \n",
    "\n",
    "See the summary below: "
   ]
  },
  {
   "cell_type": "code",
   "execution_count": null,
   "metadata": {},
   "outputs": [],
   "source": [
    "fileref.write(astring) # Add a string to the end of the file.\n",
    "fileref.read(n) # Read and return a string of \"n\" characters or the entire file as a single string if \"n\" is not provided.\n",
    "fileref.readline() # Read and return the next line of the file including the newline character. \n",
    "# If n is provided as a parameter, then only n characters will be returned if the line is longer than n.\n",
    "fileref.readlines() # Returns a list of strings."
   ]
  },
  {
   "cell_type": "markdown",
   "metadata": {},
   "source": [
    "Now, let's do examples: \n",
    "\n",
    "1. Using the file school_prompt2.txt, find the number of characters in the file and assign that value to the variable num_char"
   ]
  },
  {
   "cell_type": "code",
   "execution_count": null,
   "metadata": {},
   "outputs": [],
   "source": [
    "file = open(\"school_prompt2.txt\", \"r\")\n",
    "num_char = len(file.read())\n",
    "file.close()"
   ]
  },
  {
   "cell_type": "markdown",
   "metadata": {},
   "source": [
    "2. Find the number of lines in the file, travel_plans2.txt, and assign it to the variable num_lines."
   ]
  },
  {
   "cell_type": "code",
   "execution_count": null,
   "metadata": {},
   "outputs": [],
   "source": [
    "file = open(\"travel_plans2.txt\", \"r\")\n",
    "num_lines = len(file.readlines())\n",
    "file.close()"
   ]
  },
  {
   "cell_type": "markdown",
   "metadata": {},
   "source": [
    "3. Create a string called first_forty that is comprised of the first 40 characters of emotion_words2.txt."
   ]
  },
  {
   "cell_type": "code",
   "execution_count": null,
   "metadata": {},
   "outputs": [],
   "source": [
    "file = open(\"emotion_words2.txt\", \"r\")\n",
    "first_forty = file.read(40)\n",
    "file.close()"
   ]
  },
  {
   "cell_type": "markdown",
   "metadata": {},
   "source": [
    "To iterate over lines, do: \n",
    "\n",
    "for line in myFile.readlines(): # This can also be supressed for myFile only. \n",
    "    statement1\n",
    "    statement2\n",
    "    ...\n",
    "\n",
    "\n",
    "To understand an example, see below: \n",
    "\n",
    "1. Write code to find out how many lines are in the file emotion_words.txt as shown above. Save this value to the variable num_lines. Do not use the len method."
   ]
  },
  {
   "cell_type": "code",
   "execution_count": null,
   "metadata": {},
   "outputs": [],
   "source": [
    "file = open(\"fileName\", \"r\")\n",
    "num_lines = 0\n",
    "for line in file.readlines():\n",
    "    num_lines = num_lines + 1\n",
    "print(num_lines)\n",
    "\n",
    "file.close()\n",
    "\n",
    "\n",
    "### or\n",
    "\n",
    "file = open(\"fileName\", \"r\")\n",
    "num_lines = 0\n",
    "for line in file:\n",
    "    num_lines = num_lines + 1\n",
    "print(num_lines)\n",
    "\n",
    "file.close()\n"
   ]
  },
  {
   "cell_type": "markdown",
   "metadata": {},
   "source": [
    "For writing files, the structure is the same but switch between \"r\" and \"w\" as flag. Note that only strings can be written, which means that you have to str(Number) in case you want to write it in the file.\n",
    "\n",
    "\n",
    "Another way to using it is as follow (observe there is no need to close file):"
   ]
  },
  {
   "cell_type": "code",
   "execution_count": null,
   "metadata": {},
   "outputs": [],
   "source": [
    "with open(\"fileName\", 'r') as md: # Opens the file and assign it to a variable called \"md\"\n",
    "    for line in md: # Equivalent to say: for line in md.readline()\n",
    "        do something # Do whatever and close file at the end."
   ]
  }
 ],
 "metadata": {
  "language_info": {
   "name": "python"
  }
 },
 "nbformat": 4,
 "nbformat_minor": 2
}
